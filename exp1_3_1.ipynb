{
 "cells": [
  {
   "cell_type": "code",
   "execution_count": 1,
   "id": "60d657e0",
   "metadata": {},
   "outputs": [],
   "source": [
    "import torch\n",
    "import torchvision\n",
    "import torchvision.transforms as transforms"
   ]
  },
  {
   "cell_type": "code",
   "execution_count": 2,
   "id": "6dc24a60",
   "metadata": {},
   "outputs": [],
   "source": [
    "mnist_train = torchvision.datasets.FashionMNIST(root='~/test/Datasets/FashionMNIST',train=True, download=True, transform=transforms.ToTensor())\n",
    "mnist_test = torchvision.datasets.FashionMNIST(root='~/test/Datasets/FashionMNIST',train=False, download=True, transform=transforms.ToTensor())"
   ]
  },
  {
   "cell_type": "code",
   "execution_count": 3,
   "id": "e60c98c8",
   "metadata": {},
   "outputs": [],
   "source": [
    "batch_size = 256\n",
    "train_iter = torch.utils.data.DataLoader(mnist_train, batch_size=batch_size,shuffle=True, num_workers=2)\n",
    "test_iter = torch.utils.data.DataLoader(mnist_test, batch_size=batch_size,shuffle=False, num_workers=2)"
   ]
  },
  {
   "cell_type": "code",
   "execution_count": 4,
   "id": "54965baf",
   "metadata": {},
   "outputs": [],
   "source": [
    "import numpy as np\n",
    "num_inputs = 784\n",
    "num_outputs = 10\n",
    "\n",
    "w = torch.normal(0, 0.01, size=(num_inputs, num_outputs), requires_grad=True)# 权重的高斯随机初始化\n",
    "b = torch.zeros(num_outputs, requires_grad=True)                             # 偏移的随机初始化"
   ]
  },
  {
   "cell_type": "code",
   "execution_count": 5,
   "id": "ce72a730",
   "metadata": {},
   "outputs": [],
   "source": [
    "def softmax(X):\n",
    "    X_exp = torch.exp(X)\n",
    "    partition = X_exp.sum(1, keepdim=True)\n",
    "    return X_exp / partition  # 这里应用了广播机制"
   ]
  },
  {
   "cell_type": "code",
   "execution_count": 6,
   "id": "935d4573",
   "metadata": {},
   "outputs": [],
   "source": [
    "def net(X):\n",
    "    return softmax(torch.mm(X.view(-1, num_inputs), w) + b)"
   ]
  },
  {
   "cell_type": "code",
   "execution_count": 7,
   "id": "05343b9c",
   "metadata": {},
   "outputs": [],
   "source": [
    "def cross_entropy(y_hat, y):\n",
    "    return - torch.log(y_hat.gather(1, y.view(-1, 1)))"
   ]
  },
  {
   "cell_type": "code",
   "execution_count": 8,
   "id": "7627cfd5",
   "metadata": {},
   "outputs": [],
   "source": [
    "def sgd(params, lr, batch_size):\n",
    "    for param in params:\n",
    "        param.data -= lr * param.grad / batch_size"
   ]
  },
  {
   "cell_type": "code",
   "execution_count": 9,
   "id": "c8dbbf05",
   "metadata": {},
   "outputs": [
    {
     "name": "stdout",
     "output_type": "stream",
     "text": [
      "epoch 0, loss 0.834459\n",
      "epoch 1, loss 0.725173\n",
      "epoch 2, loss 0.741018\n",
      "epoch 3, loss 0.478732\n",
      "epoch 4, loss 0.625841\n",
      "epoch 5, loss 0.541773\n",
      "epoch 6, loss 0.469326\n",
      "epoch 7, loss 0.475774\n",
      "epoch 8, loss 0.544209\n",
      "epoch 9, loss 0.641391\n",
      "epoch 10, loss 0.553903\n",
      "epoch 11, loss 0.450143\n",
      "epoch 12, loss 0.565342\n",
      "epoch 13, loss 0.497521\n",
      "epoch 14, loss 0.444724\n",
      "epoch 15, loss 0.454046\n",
      "epoch 16, loss 0.391821\n",
      "epoch 17, loss 0.515436\n",
      "epoch 18, loss 0.428535\n",
      "epoch 19, loss 0.425361\n",
      "epoch 20, loss 0.503010\n",
      "epoch 21, loss 0.312132\n",
      "epoch 22, loss 0.473966\n",
      "epoch 23, loss 0.336234\n",
      "epoch 24, loss 0.443135\n",
      "epoch 25, loss 0.405794\n",
      "epoch 26, loss 0.452806\n",
      "epoch 27, loss 0.458816\n",
      "epoch 28, loss 0.499519\n",
      "epoch 29, loss 0.432770\n",
      "epoch 30, loss 0.416400\n",
      "epoch 31, loss 0.452821\n",
      "epoch 32, loss 0.423057\n",
      "epoch 33, loss 0.545822\n",
      "epoch 34, loss 0.430880\n",
      "epoch 35, loss 0.462423\n",
      "epoch 36, loss 0.453090\n",
      "epoch 37, loss 0.550864\n",
      "epoch 38, loss 0.368505\n",
      "epoch 39, loss 0.398366\n",
      "epoch 40, loss 0.517075\n",
      "epoch 41, loss 0.415746\n",
      "epoch 42, loss 0.358591\n",
      "epoch 43, loss 0.518202\n",
      "epoch 44, loss 0.372690\n",
      "epoch 45, loss 0.568899\n",
      "epoch 46, loss 0.321640\n",
      "epoch 47, loss 0.452948\n",
      "epoch 48, loss 0.442822\n",
      "epoch 49, loss 0.483678\n",
      "epoch 50, loss 0.481648\n",
      "epoch 51, loss 0.410783\n",
      "epoch 52, loss 0.506013\n",
      "epoch 53, loss 0.403404\n",
      "epoch 54, loss 0.416877\n",
      "epoch 55, loss 0.477843\n",
      "epoch 56, loss 0.325730\n",
      "epoch 57, loss 0.333658\n",
      "epoch 58, loss 0.532285\n",
      "epoch 59, loss 0.533367\n",
      "epoch 60, loss 0.424066\n",
      "epoch 61, loss 0.435492\n",
      "epoch 62, loss 0.287768\n",
      "epoch 63, loss 0.444094\n",
      "epoch 64, loss 0.323629\n",
      "epoch 65, loss 0.478043\n",
      "epoch 66, loss 0.335364\n",
      "epoch 67, loss 0.406399\n",
      "epoch 68, loss 0.380586\n",
      "epoch 69, loss 0.418860\n",
      "epoch 70, loss 0.297615\n",
      "epoch 71, loss 0.394648\n",
      "epoch 72, loss 0.381653\n",
      "epoch 73, loss 0.426713\n",
      "epoch 74, loss 0.384634\n",
      "epoch 75, loss 0.396652\n",
      "epoch 76, loss 0.355302\n",
      "epoch 77, loss 0.563194\n",
      "epoch 78, loss 0.388766\n",
      "epoch 79, loss 0.347848\n"
     ]
    }
   ],
   "source": [
    "lr = 0.03\n",
    "num_epochs = 80\n",
    "net = net\n",
    "loss = cross_entropy\n",
    "loss_list = []\n",
    "epoch_list = []\n",
    "for epoch in range(0,num_epochs):\n",
    "    for X,y in train_iter:\n",
    "        l = loss(net(X),y).sum()\n",
    "        #sgd([w,b],lr,batch_size)\n",
    "        l.backward()\n",
    "        sgd([w,b],lr,batch_size)\n",
    "        w.grad.data.zero_()\n",
    "        b.grad.data.zero_()\n",
    "    train_l = loss(net(X), y)\n",
    "    epoch_list.append(epoch)\n",
    "    loss_list.append(train_l.mean().item())\n",
    "    print('epoch %d, loss %f' % (epoch, train_l.mean().item()))#第一次训练后全部训练集的损失的均值 "
   ]
  },
  {
   "cell_type": "code",
   "execution_count": 10,
   "id": "3abc0139",
   "metadata": {},
   "outputs": [
    {
     "data": {
      "image/png": "[encoded data removed]",
      "text/plain": [
       "<Figure size 432x288 with 1 Axes>"
      ]
     },
     "metadata": {
      "needs_background": "light"
     },
     "output_type": "display_data"
    }
   ],
   "source": [
    "import matplotlib.pyplot as plt\n",
    "plt.plot(epoch_list,loss_list)\n",
    "plt.title(\"LOSS WITH EPOCH\")\n",
    "plt.xlabel(\"epochs\")\n",
    "plt.ylabel(\"loss\")\n",
    "plt.show()"
   ]
  },
  {
   "cell_type": "code",
   "execution_count": 11,
   "id": "7b7531f3",
   "metadata": {},
   "outputs": [],
   "source": [
    "def evaluate_accuracy(data_iter, net):\n",
    "    acc_sum, n = 0.0, 0\n",
    "    for X, y in data_iter:\n",
    "        acc_sum += (net(X).argmax(dim=1) == y).float().sum().item()\n",
    "        n += y.shape[0]\n",
    "    return acc_sum / n"
   ]
  },
  {
   "cell_type": "code",
   "execution_count": 12,
   "id": "24c5e80a",
   "metadata": {},
   "outputs": [
    {
     "data": {
      "text/plain": [
       "0.8600666666666666"
      ]
     },
     "execution_count": 12,
     "metadata": {},
     "output_type": "execute_result"
    }
   ],
   "source": [
    "evaluate_accuracy(train_iter,net)"
   ]
  },
  {
   "cell_type": "code",
   "execution_count": 13,
   "id": "394c20a8",
   "metadata": {},
   "outputs": [
    {
     "data": {
      "text/plain": [
       "0.8395"
      ]
     },
     "execution_count": 13,
     "metadata": {},
     "output_type": "execute_result"
    }
   ],
   "source": [
    "evaluate_accuracy(test_iter,net)"
   ]
  },
  {
   "cell_type": "code",
   "execution_count": null,
   "id": "0fbda26d",
   "metadata": {},
   "outputs": [],
   "source": []
  }
 ],
 "metadata": {
  "kernelspec": {
   "display_name": "Python 3",
   "language": "python",
   "name": "python3"
  },
  "language_info": {
   "codemirror_mode": {
    "name": "ipython",
    "version": 3
   },
   "file_extension": ".py",
   "mimetype": "text/x-python",
   "name": "python",
   "nbconvert_exporter": "python",
   "pygments_lexer": "ipython3",
   "version": "3.8.8"
  }
 },
 "nbformat": 4,
 "nbformat_minor": 5
}
