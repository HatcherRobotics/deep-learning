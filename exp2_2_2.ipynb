{
 "cells": [
  {
   "cell_type": "code",
   "execution_count": 1,
   "id": "7434ea11",
   "metadata": {},
   "outputs": [],
   "source": [
    "import torch\n",
    "import torchvision\n",
    "import torchvision.transforms as transforms\n",
    "import torch.nn as nn\n",
    "import torch.optim as optim"
   ]
  },
  {
   "cell_type": "code",
   "execution_count": 2,
   "id": "70b87717",
   "metadata": {},
   "outputs": [],
   "source": [
    "device = torch.device(\"cuda\")"
   ]
  },
  {
   "cell_type": "code",
   "execution_count": 3,
   "id": "64f46186",
   "metadata": {},
   "outputs": [],
   "source": [
    "mnist_train = torchvision.datasets.MNIST(root='~/test/Datasets/MNIST',train=True, download=True, transform=transforms.ToTensor())\n",
    "mnist_test = torchvision.datasets.MNIST(root='~/test/Datasets/MNIST',train=False, download=True, transform=transforms.ToTensor())"
   ]
  },
  {
   "cell_type": "code",
   "execution_count": 4,
   "id": "de84edf9",
   "metadata": {},
   "outputs": [],
   "source": [
    "batch_size = 256\n",
    "train_iter = torch.utils.data.DataLoader(mnist_train, batch_size=batch_size,shuffle=True, num_workers=2)\n",
    "test_iter = torch.utils.data.DataLoader(mnist_test, batch_size=batch_size,shuffle=False, num_workers=2)"
   ]
  },
  {
   "cell_type": "code",
   "execution_count": 5,
   "id": "1ea1995e",
   "metadata": {},
   "outputs": [],
   "source": [
    "num_inputs,num_hiddens,num_outputs = 784,256,10"
   ]
  },
  {
   "cell_type": "code",
   "execution_count": 6,
   "id": "cf043d78",
   "metadata": {},
   "outputs": [],
   "source": [
    "class ForwardNet(nn.Module):\n",
    "    def __init__(self):\n",
    "        super(ForwardNet,self).__init__()\n",
    "        self.flatten = nn.Flatten()\n",
    "        self.linear1 = nn.Linear(num_inputs,num_hiddens)\n",
    "        self.relu = nn.ReLU()\n",
    "        self.linear2 = nn.Linear(num_hiddens,num_outputs)\n",
    "    def forward(self,x):\n",
    "        y = self.flatten(x)\n",
    "        y = self.linear1(y)\n",
    "        y = self.relu(y)\n",
    "        y = self.linear2(y)\n",
    "        return y"
   ]
  },
  {
   "cell_type": "code",
   "execution_count": 7,
   "id": "b6c7dbf3",
   "metadata": {},
   "outputs": [
    {
     "data": {
      "text/plain": [
       "ForwardNet(\n",
       "  (flatten): Flatten(start_dim=1, end_dim=-1)\n",
       "  (linear1): Linear(in_features=784, out_features=256, bias=True)\n",
       "  (relu): ReLU()\n",
       "  (linear2): Linear(in_features=256, out_features=10, bias=True)\n",
       ")"
      ]
     },
     "execution_count": 7,
     "metadata": {},
     "output_type": "execute_result"
    }
   ],
   "source": [
    "net = ForwardNet()\n",
    "net.to(device)"
   ]
  },
  {
   "cell_type": "code",
   "execution_count": 8,
   "id": "d1fc484e",
   "metadata": {},
   "outputs": [],
   "source": [
    "for params in net.parameters():\n",
    "    nn.init.normal_(params,mean=0,std=0.01)"
   ]
  },
  {
   "cell_type": "code",
   "execution_count": 9,
   "id": "1c364479",
   "metadata": {},
   "outputs": [],
   "source": [
    "def evaluate_accuracy(data_iter,net,loss):\n",
    "    acc_sum,n=0.0,0\n",
    "    test_l_sum=0.0\n",
    "    for X,y in data_iter:\n",
    "        X = X.to(device)\n",
    "        y = y.to(device)        \n",
    "        acc_sum+=(net(X).argmax(dim=1)==y).float().sum().item()\n",
    "        l=loss(net(X),y).sum()\n",
    "        test_l_sum+=l.item()\n",
    "        n+=y.shape[0]\n",
    "    return acc_sum/n,test_l_sum/n"
   ]
  },
  {
   "cell_type": "code",
   "execution_count": 10,
   "id": "0b015ef5",
   "metadata": {},
   "outputs": [],
   "source": [
    "num_epochs=50\n",
    "lr=0.01\n",
    "loss=nn.CrossEntropyLoss()\n",
    "optimizer=torch.optim.SGD(net.parameters(),lr)"
   ]
  },
  {
   "cell_type": "code",
   "execution_count": 18,
   "id": "f01a1c03",
   "metadata": {},
   "outputs": [],
   "source": [
    "def train(net,train_iter,test_iter,loss,num_epochs,batch_size,params=None,lr=None,optimizer=None):\n",
    "    train_loss=[]\n",
    "    test_loss=[]\n",
    "    for epoch in range(num_epochs):\n",
    "        train_l_sum,train_acc_sum,n=0.0,0.0,0\n",
    "        for X,y in train_iter:\n",
    "            X = X.to(device)\n",
    "            y = y.to(device)\n",
    "            y_hat = net(X)\n",
    "            l=loss(y_hat,y).sum()\n",
    "            if optimizer is not None:\n",
    "                optimizer.zero_grad()\n",
    "            elif params is not None and params[0].grad is not None:\n",
    "                for param in params:\n",
    "                    param.grad.data.zero_()\n",
    "            l.backward()\n",
    "            if optimizer is None:\n",
    "                SGD(params,lr)\n",
    "            else:\n",
    "                optimizer.step()\n",
    "            train_l_sum+=l.item()\n",
    "            train_acc_sum+=(y_hat.argmax(dim=1)==y).sum().item()\n",
    "            n+=y.shape[0]\n",
    "        test_acc,test_l = evaluate_accuracy(test_iter,net,loss)\n",
    "        train_loss.append(train_l_sum/n)\n",
    "        test_loss.append(test_l)\n",
    "        print('epoch%d,loss%.4f,train acc %3f,test acc %.3f'%(epoch+1,train_l_sum/n,train_acc_sum/n,test_acc))\n",
    "    return train_loss,test_loss"
   ]
  },
  {
   "cell_type": "code",
   "execution_count": 19,
   "id": "a99a89bf",
   "metadata": {},
   "outputs": [
    {
     "name": "stdout",
     "output_type": "stream",
     "text": [
      "epoch1,loss0.0059,train acc 0.725100,test acc 0.765\n",
      "epoch2,loss0.0040,train acc 0.783050,test acc 0.813\n",
      "epoch3,loss0.0030,train acc 0.820117,test acc 0.839\n",
      "epoch4,loss0.0025,train acc 0.842617,test acc 0.857\n",
      "epoch5,loss0.0022,train acc 0.857750,test acc 0.868\n",
      "epoch6,loss0.0020,train acc 0.867500,test acc 0.878\n",
      "epoch7,loss0.0019,train acc 0.874850,test acc 0.884\n",
      "epoch8,loss0.0018,train acc 0.880367,test acc 0.889\n",
      "epoch9,loss0.0017,train acc 0.885817,test acc 0.893\n",
      "epoch10,loss0.0016,train acc 0.888633,test acc 0.896\n",
      "epoch11,loss0.0016,train acc 0.892200,test acc 0.900\n",
      "epoch12,loss0.0015,train acc 0.894517,test acc 0.901\n",
      "epoch13,loss0.0015,train acc 0.896417,test acc 0.902\n",
      "epoch14,loss0.0014,train acc 0.898467,test acc 0.903\n",
      "epoch15,loss0.0014,train acc 0.900117,test acc 0.904\n",
      "epoch16,loss0.0014,train acc 0.901600,test acc 0.905\n",
      "epoch17,loss0.0013,train acc 0.903283,test acc 0.906\n",
      "epoch18,loss0.0013,train acc 0.904667,test acc 0.908\n",
      "epoch19,loss0.0013,train acc 0.906117,test acc 0.910\n",
      "epoch20,loss0.0013,train acc 0.906933,test acc 0.911\n",
      "epoch21,loss0.0013,train acc 0.908400,test acc 0.912\n",
      "epoch22,loss0.0012,train acc 0.909633,test acc 0.915\n",
      "epoch23,loss0.0012,train acc 0.910583,test acc 0.916\n",
      "epoch24,loss0.0012,train acc 0.911750,test acc 0.917\n",
      "epoch25,loss0.0012,train acc 0.912983,test acc 0.917\n",
      "epoch26,loss0.0012,train acc 0.913700,test acc 0.918\n",
      "epoch27,loss0.0012,train acc 0.914833,test acc 0.919\n",
      "epoch28,loss0.0012,train acc 0.915500,test acc 0.920\n",
      "epoch29,loss0.0011,train acc 0.916600,test acc 0.921\n",
      "epoch30,loss0.0011,train acc 0.917667,test acc 0.922\n",
      "epoch31,loss0.0011,train acc 0.918567,test acc 0.922\n",
      "epoch32,loss0.0011,train acc 0.919100,test acc 0.923\n",
      "epoch33,loss0.0011,train acc 0.920017,test acc 0.923\n",
      "epoch34,loss0.0011,train acc 0.920667,test acc 0.924\n",
      "epoch35,loss0.0011,train acc 0.921650,test acc 0.925\n",
      "epoch36,loss0.0011,train acc 0.922317,test acc 0.926\n",
      "epoch37,loss0.0011,train acc 0.922683,test acc 0.927\n",
      "epoch38,loss0.0010,train acc 0.923933,test acc 0.928\n",
      "epoch39,loss0.0010,train acc 0.924733,test acc 0.928\n",
      "epoch40,loss0.0010,train acc 0.925333,test acc 0.928\n",
      "epoch41,loss0.0010,train acc 0.926450,test acc 0.929\n",
      "epoch42,loss0.0010,train acc 0.926833,test acc 0.930\n",
      "epoch43,loss0.0010,train acc 0.927617,test acc 0.930\n",
      "epoch44,loss0.0010,train acc 0.928533,test acc 0.931\n",
      "epoch45,loss0.0010,train acc 0.929300,test acc 0.931\n",
      "epoch46,loss0.0010,train acc 0.929800,test acc 0.932\n",
      "epoch47,loss0.0010,train acc 0.930117,test acc 0.932\n",
      "epoch48,loss0.0010,train acc 0.931017,test acc 0.933\n",
      "epoch49,loss0.0009,train acc 0.931967,test acc 0.934\n",
      "epoch50,loss0.0009,train acc 0.932483,test acc 0.934\n"
     ]
    }
   ],
   "source": [
    "train_loss,test_loss=train(net,train_iter,test_iter,loss,num_epochs,batch_size,net.parameters(),lr,optimizer)"
   ]
  },
  {
   "cell_type": "code",
   "execution_count": 21,
   "id": "00056638",
   "metadata": {},
   "outputs": [
    {
     "data": {
      "image/png": "[encoded data removed]",
      "text/plain": [
       "<Figure size 432x288 with 1 Axes>"
      ]
     },
     "metadata": {
      "needs_background": "light"
     },
     "output_type": "display_data"
    }
   ],
   "source": [
    "import matplotlib.pyplot as plt\n",
    "import numpy as np\n",
    "x=np.linspace(0,len(train_loss),len(train_loss))\n",
    "plt.plot(x,train_loss,label='train_loss',linewidth=1.5)\n",
    "plt.plot(x,test_loss,label='test_loss',linewidth=1.5)\n",
    "plt.xlabel(\"epoch\")\n",
    "plt.ylabel(\"loss\")\n",
    "plt.legend()\n",
    "plt.show()"
   ]
  }
 ],
 "metadata": {
  "kernelspec": {
   "display_name": "Python 3",
   "language": "python",
   "name": "python3"
  },
  "language_info": {
   "codemirror_mode": {
    "name": "ipython",
    "version": 3
   },
   "file_extension": ".py",
   "mimetype": "text/x-python",
   "name": "python",
   "nbconvert_exporter": "python",
   "pygments_lexer": "ipython3",
   "version": "3.8.8"
  }
 },
 "nbformat": 4,
 "nbformat_minor": 5
}
