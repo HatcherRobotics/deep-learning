{
 "cells": [
  {
   "cell_type": "code",
   "execution_count": 1,
   "id": "e177565e",
   "metadata": {},
   "outputs": [],
   "source": [
    "import torch\n",
    "import torch.nn as nn\n",
    "import numpy as np\n",
    "import random"
   ]
  },
  {
   "cell_type": "code",
   "execution_count": 2,
   "id": "308d98f8",
   "metadata": {},
   "outputs": [],
   "source": [
    "n_data = torch.ones(50, 2) # 数据的基本形态\n",
    "x1 = torch.normal(2 * n_data, 1) # shape=(50, 2)\n",
    "y1 = torch.zeros(50) # 类型0 shape=(50, 1)\n",
    "x2 = torch.normal(-2 * n_data, 1) # shape=(50, 2)\n",
    "y2 = torch.ones(50) # 类型1 shape=(50, 1)"
   ]
  },
  {
   "cell_type": "code",
   "execution_count": 3,
   "id": "fdd6f9ef",
   "metadata": {},
   "outputs": [
    {
     "name": "stdout",
     "output_type": "stream",
     "text": [
      "torch.Size([100, 2])\n",
      "torch.Size([100])\n"
     ]
    }
   ],
   "source": [
    "x = torch.cat((x1, x2), 0).type(torch.FloatTensor)\n",
    "y = torch.cat((y1, y2), 0).type(torch.FloatTensor)\n",
    "print(x.size())\n",
    "print(y.size())"
   ]
  },
  {
   "cell_type": "code",
   "execution_count": 4,
   "id": "66a34f1a",
   "metadata": {},
   "outputs": [],
   "source": [
    "device = torch.device(\"cuda\")"
   ]
  },
  {
   "cell_type": "code",
   "execution_count": 5,
   "id": "73cc20b1",
   "metadata": {},
   "outputs": [],
   "source": [
    "import torch.utils.data as Data\n",
    "batch_size = 10# 将训练数据的特征和标签组合\n",
    "dataset = Data.TensorDataset(x, y)"
   ]
  },
  {
   "cell_type": "code",
   "execution_count": 6,
   "id": "4cfb3355",
   "metadata": {},
   "outputs": [],
   "source": [
    "# 把 dataset 放入 DataLoader\n",
    "data_iter = Data.DataLoader(\n",
    "dataset=dataset, # torch TensorDataset format\n",
    "batch_size=batch_size, # mini batch size\n",
    "shuffle=True,# 是否打乱数据 (训练集一般需要进行打乱)\n",
    "num_workers=1,)# 多线程来读数据，注意在Windows下需要设置为0"
   ]
  },
  {
   "cell_type": "code",
   "execution_count": 7,
   "id": "b4e41c7c",
   "metadata": {},
   "outputs": [
    {
     "data": {
      "text/plain": [
       "LogisticNet(\n",
       "  (linear): Linear(in_features=2, out_features=1, bias=True)\n",
       "  (sigmoid): Sigmoid()\n",
       ")"
      ]
     },
     "execution_count": 7,
     "metadata": {},
     "output_type": "execute_result"
    }
   ],
   "source": [
    "class LogisticNet(nn.Module):\n",
    "    def __init__(self):\n",
    "        super(LogisticNet,self).__init__()\n",
    "        self.linear = nn.Linear(2,1)\n",
    "        self.sigmoid = nn.Sigmoid()\n",
    "    def forward(self,x):\n",
    "        y = self.sigmoid(self.linear(x))\n",
    "        return y\n",
    "net = LogisticNet()\n",
    "net.to(device)"
   ]
  },
  {
   "cell_type": "code",
   "execution_count": 8,
   "id": "e6b96001",
   "metadata": {},
   "outputs": [
    {
     "data": {
      "text/plain": [
       "LogisticNet(\n",
       "  (linear): Linear(in_features=2, out_features=1, bias=True)\n",
       "  (sigmoid): Sigmoid()\n",
       ")"
      ]
     },
     "execution_count": 8,
     "metadata": {},
     "output_type": "execute_result"
    }
   ],
   "source": [
    "def init_weights(m):\n",
    "    if type(m) == nn.Linear:\n",
    "        nn.init.normal_(m.weight, std=0.01)\n",
    "net.apply(init_weights)"
   ]
  },
  {
   "cell_type": "code",
   "execution_count": 9,
   "id": "69d9910c",
   "metadata": {},
   "outputs": [],
   "source": [
    "loss = nn.BCELoss()"
   ]
  },
  {
   "cell_type": "code",
   "execution_count": 10,
   "id": "5cb27b7d",
   "metadata": {},
   "outputs": [],
   "source": [
    "import torch.optim as optim\n",
    "optimizer = optim.SGD(net.parameters(), lr=0.03)"
   ]
  },
  {
   "cell_type": "code",
   "execution_count": 12,
   "id": "9e46e158",
   "metadata": {
    "scrolled": true
   },
   "outputs": [
    {
     "name": "stdout",
     "output_type": "stream",
     "text": [
      "epoch 1, loss: 0.305142\n",
      "epoch 2, loss: 0.191584\n",
      "epoch 3, loss: 0.100841\n",
      "epoch 4, loss: 0.079166\n",
      "epoch 5, loss: 0.092252\n",
      "epoch 6, loss: 0.130234\n",
      "epoch 7, loss: 0.039398\n",
      "epoch 8, loss: 0.097080\n",
      "epoch 9, loss: 0.117219\n",
      "epoch 10, loss: 0.079881\n",
      "epoch 11, loss: 0.048597\n",
      "epoch 12, loss: 0.044573\n",
      "epoch 13, loss: 0.070670\n",
      "epoch 14, loss: 0.021658\n",
      "epoch 15, loss: 0.038614\n",
      "epoch 16, loss: 0.047047\n",
      "epoch 17, loss: 0.046526\n",
      "epoch 18, loss: 0.042958\n",
      "epoch 19, loss: 0.026014\n",
      "epoch 20, loss: 0.038273\n"
     ]
    }
   ],
   "source": [
    "loss_list = []\n",
    "epoch_list = []\n",
    "num_epochs = 20\n",
    "for epoch in range(1, num_epochs + 1):\n",
    "    for X, y in data_iter:\n",
    "        X = X.to(device)\n",
    "        y = y.to(device)\n",
    "        l = loss(net(X), y.view(-1,1))\n",
    "        optimizer.zero_grad() # 梯度清零，等价于net.zero_grad()\n",
    "        l.backward()\n",
    "        optimizer.step()\n",
    "    epoch_list.append(epoch)\n",
    "    loss_list.append(l.item())\n",
    "    print('epoch %d, loss: %f' % (epoch, l.item()))"
   ]
  },
  {
   "cell_type": "code",
   "execution_count": 13,
   "id": "70b78adf",
   "metadata": {},
   "outputs": [
    {
     "data": {
      "image/png": "[encoded data removed]",
      "text/plain": [
       "<Figure size 432x288 with 1 Axes>"
      ]
     },
     "metadata": {
      "needs_background": "light"
     },
     "output_type": "display_data"
    }
   ],
   "source": [
    "import matplotlib.pyplot as plt\n",
    "plt.plot(epoch_list,loss_list)\n",
    "plt.title(\"LOSS WITH EPOCH\")\n",
    "plt.xlabel(\"epochs\")\n",
    "plt.ylabel(\"loss\")\n",
    "plt.show()"
   ]
  },
  {
   "cell_type": "code",
   "execution_count": 14,
   "id": "71a811cb",
   "metadata": {},
   "outputs": [],
   "source": [
    "def evaluate_accuracy(data_iter, net):\n",
    "    acc_sum, n = 0.0, 0\n",
    "    for X, y in data_iter:\n",
    "        X = X.to(device)\n",
    "        y = y.to(device)\n",
    "        acc_sum += (net(X).argmax(dim=1) == y).float().sum().item()\n",
    "        n += y.shape[0]\n",
    "    return acc_sum / n"
   ]
  },
  {
   "cell_type": "code",
   "execution_count": 15,
   "id": "96f9114d",
   "metadata": {},
   "outputs": [
    {
     "data": {
      "text/plain": [
       "0.5"
      ]
     },
     "execution_count": 15,
     "metadata": {},
     "output_type": "execute_result"
    }
   ],
   "source": [
    "evaluate_accuracy(data_iter,net)"
   ]
  }
 ],
 "metadata": {
  "kernelspec": {
   "display_name": "Python 3 (ipykernel)",
   "language": "python",
   "name": "python3"
  },
  "language_info": {
   "codemirror_mode": {
    "name": "ipython",
    "version": 3
   },
   "file_extension": ".py",
   "mimetype": "text/x-python",
   "name": "python",
   "nbconvert_exporter": "python",
   "pygments_lexer": "ipython3",
   "version": "3.9.13"
  }
 },
 "nbformat": 4,
 "nbformat_minor": 5
}
