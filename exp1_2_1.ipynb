{
 "cells": [
  {
   "cell_type": "code",
   "execution_count": 1,
   "id": "84e0507b",
   "metadata": {},
   "outputs": [],
   "source": [
    "import torch\n",
    "import matplotlib.pyplot as plt\n",
    "import numpy as np\n",
    "import random"
   ]
  },
  {
   "cell_type": "code",
   "execution_count": 2,
   "id": "215351d3",
   "metadata": {},
   "outputs": [],
   "source": [
    "n_data = torch.ones(50, 2) # 数据的基本形态\n",
    "x1 = torch.normal(2 * n_data, 1) # shape=(50, 2)\n",
    "y1 = torch.zeros(50) # 类型0 shape=(50, 1)\n",
    "x2 = torch.normal(-2 * n_data, 1) # shape=(50, 2)\n",
    "y2 = torch.ones(50) # 类型1 shape=(50, 1)"
   ]
  },
  {
   "cell_type": "code",
   "execution_count": 3,
   "id": "a12befc8",
   "metadata": {},
   "outputs": [
    {
     "name": "stdout",
     "output_type": "stream",
     "text": [
      "torch.Size([100, 2])\n",
      "torch.Size([100])\n",
      "torch.Size([100, 1])\n"
     ]
    }
   ],
   "source": [
    "x = torch.cat((x1, x2), 0).type(torch.FloatTensor)\n",
    "y = torch.cat((y1, y2), 0).type(torch.FloatTensor)\n",
    "print(x.size())\n",
    "print(y.size())\n",
    "y = y.view(-1,1)\n",
    "print(y.size())"
   ]
  },
  {
   "cell_type": "code",
   "execution_count": 4,
   "id": "2d4f9369",
   "metadata": {},
   "outputs": [
    {
     "data": {
      "image/png": "[encoded data removed]",
      "text/plain": [
       "<Figure size 432x288 with 1 Axes>"
      ]
     },
     "metadata": {
      "needs_background": "light"
     },
     "output_type": "display_data"
    }
   ],
   "source": [
    "plt.scatter(x.data.numpy()[:, 0], x.data.numpy()[:, 1],\n",
    "c=y.data.numpy(), s=100, lw=0, cmap='RdYlGn')\n",
    "plt.show()"
   ]
  },
  {
   "cell_type": "code",
   "execution_count": 5,
   "id": "f29d970f",
   "metadata": {},
   "outputs": [],
   "source": [
    "def data_iter(batch_size, features, labels):\n",
    "    num_examples = len(features)\n",
    "    indices = list(range(num_examples))\n",
    "    random.shuffle(indices) \n",
    "    for i in range(0, num_examples, batch_size):\n",
    "        j = torch.LongTensor(indices[i: min(i + batch_size, num_examples)])\n",
    "        yield features.index_select(0, j), labels.index_select(0, j)"
   ]
  },
  {
   "cell_type": "code",
   "execution_count": 6,
   "id": "c8b7184f",
   "metadata": {},
   "outputs": [],
   "source": [
    "w = torch.tensor(np.random.normal(0, 0.01,(2, 1)), dtype=torch.float32)"
   ]
  },
  {
   "cell_type": "code",
   "execution_count": 7,
   "id": "2177219a",
   "metadata": {},
   "outputs": [
    {
     "data": {
      "text/plain": [
       "tensor([[ 0.0019],\n",
       "        [-0.0049]], requires_grad=True)"
      ]
     },
     "execution_count": 7,
     "metadata": {},
     "output_type": "execute_result"
    }
   ],
   "source": [
    "w.requires_grad_(requires_grad=True)"
   ]
  },
  {
   "cell_type": "code",
   "execution_count": 8,
   "id": "eba84b91",
   "metadata": {},
   "outputs": [],
   "source": [
    "def Sigmoid(X,w):\n",
    "    return 1/(1+torch.exp(-1*torch.mm(X,w)))"
   ]
  },
  {
   "cell_type": "code",
   "execution_count": 9,
   "id": "fbea16b1",
   "metadata": {},
   "outputs": [],
   "source": [
    "def sgd(params, lr, batch_size):\n",
    "    for param in params:\n",
    "        param.data -= lr * param.grad / batch_size"
   ]
  },
  {
   "cell_type": "code",
   "execution_count": 10,
   "id": "64b49aa6",
   "metadata": {},
   "outputs": [],
   "source": [
    "import torch.nn as nn\n",
    "loss = nn.BCELoss()"
   ]
  },
  {
   "cell_type": "code",
   "execution_count": 11,
   "id": "01b1870a",
   "metadata": {},
   "outputs": [],
   "source": [
    "lr = 0.03\n",
    "num_epochs = 40\n",
    "batch_size = 10\n",
    "net = Sigmoid"
   ]
  },
  {
   "cell_type": "code",
   "execution_count": 12,
   "id": "21051c96",
   "metadata": {},
   "outputs": [
    {
     "name": "stdout",
     "output_type": "stream",
     "text": [
      "epoch 1, loss 0.639763\n",
      "epoch 2, loss 0.595213\n",
      "epoch 3, loss 0.555851\n",
      "epoch 4, loss 0.520948\n",
      "epoch 5, loss 0.489894\n",
      "epoch 6, loss 0.462216\n",
      "epoch 7, loss 0.437455\n",
      "epoch 8, loss 0.415215\n",
      "epoch 9, loss 0.395129\n",
      "epoch 10, loss 0.376959\n",
      "epoch 11, loss 0.360458\n",
      "epoch 12, loss 0.345415\n",
      "epoch 13, loss 0.331643\n",
      "epoch 14, loss 0.319022\n",
      "epoch 15, loss 0.307404\n",
      "epoch 16, loss 0.296696\n",
      "epoch 17, loss 0.286778\n",
      "epoch 18, loss 0.277569\n",
      "epoch 19, loss 0.269003\n",
      "epoch 20, loss 0.261025\n",
      "epoch 21, loss 0.253565\n",
      "epoch 22, loss 0.246579\n",
      "epoch 23, loss 0.240019\n",
      "epoch 24, loss 0.233854\n",
      "epoch 25, loss 0.228046\n",
      "epoch 26, loss 0.222568\n",
      "epoch 27, loss 0.217389\n",
      "epoch 28, loss 0.212490\n",
      "epoch 29, loss 0.207846\n",
      "epoch 30, loss 0.203436\n",
      "epoch 31, loss 0.199245\n",
      "epoch 32, loss 0.195254\n",
      "epoch 33, loss 0.191452\n",
      "epoch 34, loss 0.187824\n",
      "epoch 35, loss 0.184358\n",
      "epoch 36, loss 0.181044\n",
      "epoch 37, loss 0.177872\n",
      "epoch 38, loss 0.174831\n",
      "epoch 39, loss 0.171917\n",
      "epoch 40, loss 0.169118\n"
     ]
    }
   ],
   "source": [
    "loss_list = []\n",
    "epoch_list = []\n",
    "for epoch in range(num_epochs):  \n",
    "    for X, Y in data_iter(batch_size, x, y):\n",
    "        l = loss(net(X, w), Y) \n",
    "        l.backward()  \n",
    "        sgd([w], lr, batch_size)  \n",
    "        w.grad.data.zero_()   \n",
    "    train_l = loss(net(x, w), y)\n",
    "    epoch_list.append(epoch)\n",
    "    loss_list.append(train_l.mean().item())\n",
    "    print('epoch %d, loss %f' % (epoch + 1, train_l.mean().item()))#第一次训练后全部训练集的损失的均值  "
   ]
  },
  {
   "cell_type": "code",
   "execution_count": 13,
   "id": "bb56fcaa",
   "metadata": {},
   "outputs": [
    {
     "data": {
      "image/png": "[encoded data removed]",
      "text/plain": [
       "<Figure size 432x288 with 1 Axes>"
      ]
     },
     "metadata": {
      "needs_background": "light"
     },
     "output_type": "display_data"
    }
   ],
   "source": [
    "import matplotlib.pyplot as plt\n",
    "plt.plot(epoch_list,loss_list)\n",
    "plt.title(\"LOSS WITH EPOCH\")\n",
    "plt.xlabel(\"epochs\")\n",
    "plt.ylabel(\"loss\")\n",
    "plt.show()"
   ]
  },
  {
   "cell_type": "code",
   "execution_count": 14,
   "id": "d8a4c110",
   "metadata": {},
   "outputs": [
    {
     "name": "stdout",
     "output_type": "stream",
     "text": [
      "tensor([[-0.4907],\n",
      "        [-0.5308]], requires_grad=True)\n"
     ]
    }
   ],
   "source": [
    "print(w)"
   ]
  },
  {
   "cell_type": "code",
   "execution_count": 15,
   "id": "0850f4cd",
   "metadata": {},
   "outputs": [],
   "source": [
    "def accuracy(y_hat, y):\n",
    "    return (y_hat.argmax(dim=1) == y).float().mean().item()"
   ]
  },
  {
   "cell_type": "code",
   "execution_count": 16,
   "id": "9336aa08",
   "metadata": {},
   "outputs": [
    {
     "data": {
      "text/plain": [
       "0.5"
      ]
     },
     "execution_count": 16,
     "metadata": {},
     "output_type": "execute_result"
    }
   ],
   "source": [
    "n=0\n",
    "sum_accuracy = 0\n",
    "for X, Y in data_iter(batch_size, x, y):\n",
    "    sum_accuracy +=  accuracy(net(X,w),y)\n",
    "    n+=1\n",
    "average_accuracy = sum_accuracy/n\n",
    "average_accuracy"
   ]
  }
 ],
 "metadata": {
  "kernelspec": {
   "display_name": "Python 3",
   "language": "python",
   "name": "python3"
  },
  "language_info": {
   "codemirror_mode": {
    "name": "ipython",
    "version": 3
   },
   "file_extension": ".py",
   "mimetype": "text/x-python",
   "name": "python",
   "nbconvert_exporter": "python",
   "pygments_lexer": "ipython3",
   "version": "3.8.8"
  }
 },
 "nbformat": 4,
 "nbformat_minor": 5
}
