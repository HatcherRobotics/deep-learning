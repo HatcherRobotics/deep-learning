{
 "cells": [
  {
   "cell_type": "code",
   "execution_count": 1,
   "id": "f11975ef",
   "metadata": {},
   "outputs": [],
   "source": [
    "import torch\n",
    "import torchvision\n",
    "import torchvision.transforms as transforms\n",
    "import torch.nn as nn\n",
    "import torch.optim as optim\n",
    "device = torch.device(\"cuda\")\n",
    "mnist_train = torchvision.datasets.MNIST(root='~/test/Datasets/MNIST',train=True, download=True, transform=transforms.ToTensor())\n",
    "mnist_test = torchvision.datasets.MNIST(root='~/test/Datasets/MNIST',train=False, download=True, transform=transforms.ToTensor())\n",
    "batch_size = 256\n",
    "train_iter = torch.utils.data.DataLoader(mnist_train, batch_size=batch_size,shuffle=True, num_workers=2)\n",
    "test_iter = torch.utils.data.DataLoader(mnist_test, batch_size=batch_size,shuffle=False, num_workers=2)\n",
    "num_inputs,num_hiddens,num_outputs = 784,256,10"
   ]
  },
  {
   "cell_type": "code",
   "execution_count": 2,
   "id": "1594f00c",
   "metadata": {},
   "outputs": [],
   "source": [
    "#ReLU\n",
    "class ReLUNet(nn.Module):\n",
    "    def __init__(self):\n",
    "        super(ReLUNet,self).__init__()\n",
    "        self.flatten = nn.Flatten()\n",
    "        self.linear1 = nn.Linear(num_inputs,num_hiddens)\n",
    "        self.relu = nn.ReLU()\n",
    "        self.linear2 = nn.Linear(num_hiddens,num_outputs)\n",
    "    def forward(self,x):\n",
    "        y = self.flatten(x)\n",
    "        y = self.linear1(y)\n",
    "        y = self.relu(y)\n",
    "        y = self.linear2(y)\n",
    "        return y"
   ]
  },
  {
   "cell_type": "code",
   "execution_count": 3,
   "id": "f0a13a49",
   "metadata": {},
   "outputs": [],
   "source": [
    "#leakyReLU\n",
    "class LeakyReLUNet(nn.Module):\n",
    "    def __init__(self):\n",
    "        super(LeakyReLUNet,self).__init__()\n",
    "        self.flatten = nn.Flatten()\n",
    "        self.linear1 = nn.Linear(num_inputs,num_hiddens)\n",
    "        self.leakyrelu = nn.LeakyReLU()\n",
    "        self.linear2 = nn.Linear(num_hiddens,num_outputs)\n",
    "    def forward(self,x):\n",
    "        y = self.flatten(x)\n",
    "        y = self.linear1(y)\n",
    "        y = self.leakyrelu(y)\n",
    "        y = self.linear2(y)\n",
    "        return y"
   ]
  },
  {
   "cell_type": "code",
   "execution_count": 4,
   "id": "9be16792",
   "metadata": {},
   "outputs": [],
   "source": [
    "#eLU\n",
    "class eLUNet(nn.Module):\n",
    "    def __init__(self):\n",
    "        super(eLUNet,self).__init__()\n",
    "        self.flatten = nn.Flatten()\n",
    "        self.linear1 = nn.Linear(num_inputs,num_hiddens)\n",
    "        self.elu = nn.ELU()\n",
    "        self.linear2 = nn.Linear(num_hiddens,num_outputs)\n",
    "    def forward(self,x):\n",
    "        y = self.flatten(x)\n",
    "        y = self.linear1(y)\n",
    "        y = self.elu(y)\n",
    "        y = self.linear2(y)\n",
    "        return y"
   ]
  },
  {
   "cell_type": "code",
   "execution_count": 5,
   "id": "6f991fa6",
   "metadata": {},
   "outputs": [],
   "source": [
    "#sigmoid\n",
    "class SigmoidNet(nn.Module):\n",
    "    def __init__(self):\n",
    "        super(SigmoidNet,self).__init__()\n",
    "        self.flatten = nn.Flatten()\n",
    "        self.linear1 = nn.Linear(num_inputs,num_hiddens)\n",
    "        self.sigmoid = nn.Sigmoid()\n",
    "        self.linear2 = nn.Linear(num_hiddens,num_outputs)\n",
    "    def forward(self,x):\n",
    "        y = self.flatten(x)\n",
    "        y = self.linear1(y)\n",
    "        y = self.sigmoid(y)\n",
    "        y = self.linear2(y)\n",
    "        return y"
   ]
  },
  {
   "cell_type": "code",
   "execution_count": 6,
   "id": "695643b5",
   "metadata": {},
   "outputs": [],
   "source": [
    "#tanh\n",
    "class TanhNet(nn.Module):\n",
    "    def __init__(self):\n",
    "        super(TanhNet,self).__init__()\n",
    "        self.flatten = nn.Flatten()\n",
    "        self.linear1 = nn.Linear(num_inputs,num_hiddens)\n",
    "        self.tanh = nn.Tanh()\n",
    "        self.linear2 = nn.Linear(num_hiddens,num_outputs)\n",
    "    def forward(self,x):\n",
    "        y = self.flatten(x)\n",
    "        y = self.linear1(y)\n",
    "        y = self.tanh(y)\n",
    "        y = self.linear2(y)\n",
    "        return y"
   ]
  },
  {
   "cell_type": "code",
   "execution_count": 7,
   "id": "00793597",
   "metadata": {},
   "outputs": [],
   "source": [
    "def evaluate_accuracy(data_iter,net,loss):\n",
    "    acc_sum,n=0.0,0\n",
    "    test_l_sum=0.0\n",
    "    for X,y in data_iter:\n",
    "        X = X.to(device)\n",
    "        y = y.to(device)        \n",
    "        acc_sum+=(net(X).argmax(dim=1)==y).float().sum().item()\n",
    "        l=loss(net(X),y).sum()\n",
    "        test_l_sum+=l.item()\n",
    "        n+=y.shape[0]\n",
    "    return acc_sum/n,test_l_sum/n"
   ]
  },
  {
   "cell_type": "code",
   "execution_count": 8,
   "id": "c6809271",
   "metadata": {},
   "outputs": [],
   "source": [
    "num_epochs=20\n",
    "lr=0.01\n",
    "loss=nn.CrossEntropyLoss()"
   ]
  },
  {
   "cell_type": "code",
   "execution_count": 9,
   "id": "3c33f247",
   "metadata": {},
   "outputs": [],
   "source": [
    "def train(net,train_iter,test_iter,loss,num_epochs,batch_size,params=None,lr=None,optimizer=None):\n",
    "    train_loss=[]\n",
    "    test_loss=[]\n",
    "    for epoch in range(num_epochs):\n",
    "        train_l_sum,train_acc_sum,n=0.0,0.0,0\n",
    "        for X,y in train_iter:\n",
    "            X = X.to(device)\n",
    "            y = y.to(device)\n",
    "            y_hat = net(X)\n",
    "            l=loss(y_hat,y).sum()\n",
    "            if optimizer is not None:\n",
    "                optimizer.zero_grad()\n",
    "            elif params is not None and params[0].grad is not None:\n",
    "                for param in params:\n",
    "                    param.grad.data.zero_()\n",
    "            l.backward()\n",
    "            if optimizer is None:\n",
    "                SGD(params,lr)\n",
    "            else:\n",
    "                optimizer.step()\n",
    "            train_l_sum+=l.item()\n",
    "            train_acc_sum+=(y_hat.argmax(dim=1)==y).sum().item()\n",
    "            n+=y.shape[0]\n",
    "        test_acc,test_l = evaluate_accuracy(test_iter,net,loss)\n",
    "        train_loss.append(train_l_sum/n)\n",
    "        test_loss.append(test_l)\n",
    "        print('epoch%d,loss%.4f,train acc %3f,test acc %.3f'%(epoch+1,train_l_sum/n,train_acc_sum/n,test_acc))\n",
    "    return train_loss,test_loss"
   ]
  },
  {
   "cell_type": "code",
   "execution_count": 10,
   "id": "9f4ecd3a",
   "metadata": {},
   "outputs": [],
   "source": [
    "net = ReLUNet()\n",
    "net.to(device)\n",
    "optimizer=torch.optim.SGD(net.parameters(),lr)\n",
    "for params in net.parameters():\n",
    "    nn.init.normal_(params,mean=0,std=0.01)"
   ]
  },
  {
   "cell_type": "code",
   "execution_count": 11,
   "id": "a04db15b",
   "metadata": {},
   "outputs": [],
   "source": [
    "net2 = LeakyReLUNet()\n",
    "net2.to(device)\n",
    "optimizer2=torch.optim.SGD(net2.parameters(),lr)\n",
    "for params in net2.parameters():\n",
    "    nn.init.normal_(params,mean=0,std=0.01)"
   ]
  },
  {
   "cell_type": "code",
   "execution_count": 12,
   "id": "398056cf",
   "metadata": {},
   "outputs": [],
   "source": [
    "net3 = eLUNet()\n",
    "net3.to(device)\n",
    "optimizer3=torch.optim.SGD(net3.parameters(),lr)\n",
    "for params in net3.parameters():\n",
    "    nn.init.normal_(params,mean=0,std=0.01)"
   ]
  },
  {
   "cell_type": "code",
   "execution_count": 13,
   "id": "83afa653",
   "metadata": {},
   "outputs": [],
   "source": [
    "net4 = SigmoidNet()\n",
    "net4.to(device)\n",
    "optimizer4=torch.optim.SGD(net4.parameters(),lr)\n",
    "for params in net3.parameters():\n",
    "    nn.init.normal_(params,mean=0,std=0.01)"
   ]
  },
  {
   "cell_type": "code",
   "execution_count": 14,
   "id": "72862ac3",
   "metadata": {},
   "outputs": [],
   "source": [
    "net5 = TanhNet()\n",
    "net5.to(device)\n",
    "optimizer5=torch.optim.SGD(net5.parameters(),lr)\n",
    "for params in net3.parameters():\n",
    "    nn.init.normal_(params,mean=0,std=0.01)"
   ]
  },
  {
   "cell_type": "code",
   "execution_count": 16,
   "id": "03e3f93f",
   "metadata": {},
   "outputs": [
    {
     "name": "stdout",
     "output_type": "stream",
     "text": [
      "epoch1,loss0.0089,train acc 0.387917,test acc 0.547\n",
      "epoch2,loss0.0080,train acc 0.624850,test acc 0.710\n",
      "epoch3,loss0.0058,train acc 0.725883,test acc 0.757\n",
      "epoch4,loss0.0040,train acc 0.783617,test acc 0.814\n",
      "epoch5,loss0.0030,train acc 0.822200,test acc 0.839\n",
      "epoch6,loss0.0025,train acc 0.843467,test acc 0.858\n",
      "epoch7,loss0.0022,train acc 0.857917,test acc 0.870\n",
      "epoch8,loss0.0020,train acc 0.868800,test acc 0.878\n",
      "epoch9,loss0.0019,train acc 0.875517,test acc 0.885\n",
      "epoch10,loss0.0018,train acc 0.880317,test acc 0.888\n",
      "epoch11,loss0.0017,train acc 0.885050,test acc 0.893\n",
      "epoch12,loss0.0016,train acc 0.888617,test acc 0.897\n",
      "epoch13,loss0.0016,train acc 0.891933,test acc 0.899\n",
      "epoch14,loss0.0015,train acc 0.893750,test acc 0.900\n",
      "epoch15,loss0.0015,train acc 0.896467,test acc 0.902\n",
      "epoch16,loss0.0014,train acc 0.898267,test acc 0.902\n",
      "epoch17,loss0.0014,train acc 0.899483,test acc 0.904\n",
      "epoch18,loss0.0014,train acc 0.901133,test acc 0.905\n",
      "epoch19,loss0.0014,train acc 0.902483,test acc 0.906\n",
      "epoch20,loss0.0013,train acc 0.903883,test acc 0.908\n"
     ]
    }
   ],
   "source": [
    "train_loss,test_loss=train(net,train_iter,test_iter,loss,num_epochs,batch_size,net.parameters(),lr,optimizer)"
   ]
  },
  {
   "cell_type": "code",
   "execution_count": 17,
   "id": "468ed3b9",
   "metadata": {},
   "outputs": [
    {
     "data": {
      "image/png": "[encoded data removed]",
      "text/plain": [
       "<Figure size 432x288 with 1 Axes>"
      ]
     },
     "metadata": {
      "needs_background": "light"
     },
     "output_type": "display_data"
    }
   ],
   "source": [
    "import matplotlib.pyplot as plt\n",
    "import numpy as np\n",
    "x=np.linspace(0,len(train_loss),len(train_loss))\n",
    "plt.plot(x,train_loss,label='train_loss',linewidth=1.5)\n",
    "plt.plot(x,test_loss,label='test_loss',linewidth=1.5)\n",
    "plt.xlabel(\"epoch\")\n",
    "plt.ylabel(\"loss\")\n",
    "plt.legend()\n",
    "plt.show()"
   ]
  },
  {
   "cell_type": "code",
   "execution_count": 18,
   "id": "af379ad3",
   "metadata": {},
   "outputs": [
    {
     "name": "stdout",
     "output_type": "stream",
     "text": [
      "epoch1,loss0.0089,train acc 0.441817,test acc 0.531\n",
      "epoch2,loss0.0080,train acc 0.598700,test acc 0.671\n",
      "epoch3,loss0.0059,train acc 0.708350,test acc 0.760\n",
      "epoch4,loss0.0040,train acc 0.777700,test acc 0.810\n",
      "epoch5,loss0.0031,train acc 0.819767,test acc 0.840\n",
      "epoch6,loss0.0025,train acc 0.842667,test acc 0.856\n",
      "epoch7,loss0.0022,train acc 0.858133,test acc 0.869\n",
      "epoch8,loss0.0020,train acc 0.867800,test acc 0.878\n",
      "epoch9,loss0.0019,train acc 0.875733,test acc 0.886\n",
      "epoch10,loss0.0018,train acc 0.881150,test acc 0.889\n",
      "epoch11,loss0.0017,train acc 0.885333,test acc 0.892\n",
      "epoch12,loss0.0016,train acc 0.888683,test acc 0.896\n",
      "epoch13,loss0.0016,train acc 0.891367,test acc 0.898\n",
      "epoch14,loss0.0015,train acc 0.894700,test acc 0.901\n",
      "epoch15,loss0.0015,train acc 0.896733,test acc 0.901\n",
      "epoch16,loss0.0014,train acc 0.898233,test acc 0.904\n",
      "epoch17,loss0.0014,train acc 0.899650,test acc 0.905\n",
      "epoch18,loss0.0014,train acc 0.901567,test acc 0.906\n",
      "epoch19,loss0.0014,train acc 0.903000,test acc 0.908\n",
      "epoch20,loss0.0013,train acc 0.904100,test acc 0.909\n"
     ]
    }
   ],
   "source": [
    "train_loss.clear()\n",
    "test_loss.clear()\n",
    "train_loss,test_loss=train(net2,train_iter,test_iter,loss,num_epochs,batch_size,net2.parameters(),lr,optimizer2)"
   ]
  },
  {
   "cell_type": "code",
   "execution_count": 19,
   "id": "77e95b7c",
   "metadata": {},
   "outputs": [
    {
     "data": {
      "image/png": "[encoded data removed]",
      "text/plain": [
       "<Figure size 432x288 with 1 Axes>"
      ]
     },
     "metadata": {
      "needs_background": "light"
     },
     "output_type": "display_data"
    }
   ],
   "source": [
    "x=np.linspace(0,len(train_loss),len(train_loss))\n",
    "plt.plot(x,train_loss,label='train_loss',linewidth=1.5)\n",
    "plt.plot(x,test_loss,label='test_loss',linewidth=1.5)\n",
    "plt.xlabel(\"epoch\")\n",
    "plt.ylabel(\"loss\")\n",
    "plt.legend()\n",
    "plt.show()"
   ]
  },
  {
   "cell_type": "code",
   "execution_count": 20,
   "id": "3590ccfd",
   "metadata": {},
   "outputs": [
    {
     "name": "stdout",
     "output_type": "stream",
     "text": [
      "epoch1,loss0.0087,train acc 0.552667,test acc 0.669\n",
      "epoch2,loss0.0073,train acc 0.675733,test acc 0.706\n",
      "epoch3,loss0.0049,train acc 0.736767,test acc 0.789\n",
      "epoch4,loss0.0035,train acc 0.802967,test acc 0.828\n",
      "epoch5,loss0.0028,train acc 0.832200,test acc 0.850\n",
      "epoch6,loss0.0024,train acc 0.850083,test acc 0.863\n",
      "epoch7,loss0.0021,train acc 0.862317,test acc 0.872\n",
      "epoch8,loss0.0019,train acc 0.870917,test acc 0.881\n",
      "epoch9,loss0.0018,train acc 0.876650,test acc 0.887\n",
      "epoch10,loss0.0017,train acc 0.881683,test acc 0.890\n",
      "epoch11,loss0.0016,train acc 0.885850,test acc 0.894\n",
      "epoch12,loss0.0016,train acc 0.888900,test acc 0.895\n",
      "epoch13,loss0.0015,train acc 0.891283,test acc 0.898\n",
      "epoch14,loss0.0015,train acc 0.893467,test acc 0.899\n",
      "epoch15,loss0.0015,train acc 0.895483,test acc 0.900\n",
      "epoch16,loss0.0014,train acc 0.897467,test acc 0.901\n",
      "epoch17,loss0.0014,train acc 0.898667,test acc 0.904\n",
      "epoch18,loss0.0014,train acc 0.900167,test acc 0.905\n",
      "epoch19,loss0.0014,train acc 0.901700,test acc 0.905\n",
      "epoch20,loss0.0014,train acc 0.902733,test acc 0.906\n"
     ]
    }
   ],
   "source": [
    "train_loss.clear()\n",
    "test_loss.clear()\n",
    "train_loss,test_loss=train(net3,train_iter,test_iter,loss,num_epochs,batch_size,net3.parameters(),lr,optimizer3)"
   ]
  },
  {
   "cell_type": "code",
   "execution_count": 21,
   "id": "2c676ce9",
   "metadata": {},
   "outputs": [
    {
     "data": {
      "image/png": "[encoded data removed]",
      "text/plain": [
       "<Figure size 432x288 with 1 Axes>"
      ]
     },
     "metadata": {
      "needs_background": "light"
     },
     "output_type": "display_data"
    }
   ],
   "source": [
    "x=np.linspace(0,len(train_loss),len(train_loss))\n",
    "plt.plot(x,train_loss,label='train_loss',linewidth=1.5)\n",
    "plt.plot(x,test_loss,label='test_loss',linewidth=1.5)\n",
    "plt.xlabel(\"epoch\")\n",
    "plt.ylabel(\"loss\")\n",
    "plt.legend()\n",
    "plt.show()"
   ]
  },
  {
   "cell_type": "code",
   "execution_count": 22,
   "id": "7bb60489",
   "metadata": {},
   "outputs": [
    {
     "name": "stdout",
     "output_type": "stream",
     "text": [
      "epoch1,loss0.0089,train acc 0.208483,test acc 0.308\n",
      "epoch2,loss0.0086,train acc 0.447083,test acc 0.551\n",
      "epoch3,loss0.0082,train acc 0.579200,test acc 0.635\n",
      "epoch4,loss0.0077,train acc 0.637033,test acc 0.689\n",
      "epoch5,loss0.0071,train acc 0.674367,test acc 0.693\n",
      "epoch6,loss0.0064,train acc 0.700933,test acc 0.741\n",
      "epoch7,loss0.0058,train acc 0.731650,test acc 0.746\n",
      "epoch8,loss0.0051,train acc 0.755150,test acc 0.767\n",
      "epoch9,loss0.0046,train acc 0.774983,test acc 0.790\n",
      "epoch10,loss0.0042,train acc 0.792183,test acc 0.805\n",
      "epoch11,loss0.0038,train acc 0.804917,test acc 0.812\n",
      "epoch12,loss0.0035,train acc 0.814383,test acc 0.826\n",
      "epoch13,loss0.0033,train acc 0.823000,test acc 0.835\n",
      "epoch14,loss0.0031,train acc 0.830083,test acc 0.841\n",
      "epoch15,loss0.0029,train acc 0.836183,test acc 0.845\n",
      "epoch16,loss0.0028,train acc 0.841683,test acc 0.850\n",
      "epoch17,loss0.0026,train acc 0.846217,test acc 0.853\n",
      "epoch18,loss0.0025,train acc 0.850550,test acc 0.858\n",
      "epoch19,loss0.0024,train acc 0.853817,test acc 0.863\n",
      "epoch20,loss0.0023,train acc 0.856967,test acc 0.866\n"
     ]
    }
   ],
   "source": [
    "train_loss.clear()\n",
    "test_loss.clear()\n",
    "train_loss,test_loss=train(net4,train_iter,test_iter,loss,num_epochs,batch_size,net4.parameters(),lr,optimizer4)"
   ]
  },
  {
   "cell_type": "code",
   "execution_count": 23,
   "id": "654e3080",
   "metadata": {},
   "outputs": [
    {
     "data": {
      "image/png": "[encoded data removed]",
      "text/plain": [
       "<Figure size 432x288 with 1 Axes>"
      ]
     },
     "metadata": {
      "needs_background": "light"
     },
     "output_type": "display_data"
    }
   ],
   "source": [
    "x=np.linspace(0,len(train_loss),len(train_loss))\n",
    "plt.plot(x,train_loss,label='train_loss',linewidth=1.5)\n",
    "plt.plot(x,test_loss,label='test_loss',linewidth=1.5)\n",
    "plt.xlabel(\"epoch\")\n",
    "plt.ylabel(\"loss\")\n",
    "plt.legend()\n",
    "plt.show()"
   ]
  },
  {
   "cell_type": "code",
   "execution_count": 24,
   "id": "0a1aabd9",
   "metadata": {},
   "outputs": [
    {
     "name": "stdout",
     "output_type": "stream",
     "text": [
      "epoch1,loss0.0072,train acc 0.635300,test acc 0.761\n",
      "epoch2,loss0.0044,train acc 0.789650,test acc 0.827\n",
      "epoch3,loss0.0031,train acc 0.832667,test acc 0.852\n",
      "epoch4,loss0.0025,train acc 0.852450,test acc 0.869\n",
      "epoch5,loss0.0022,train acc 0.864650,test acc 0.877\n",
      "epoch6,loss0.0020,train acc 0.872683,test acc 0.886\n",
      "epoch7,loss0.0018,train acc 0.878550,test acc 0.889\n",
      "epoch8,loss0.0017,train acc 0.882567,test acc 0.892\n",
      "epoch9,loss0.0016,train acc 0.886550,test acc 0.895\n",
      "epoch10,loss0.0016,train acc 0.889817,test acc 0.897\n",
      "epoch11,loss0.0015,train acc 0.892233,test acc 0.899\n",
      "epoch12,loss0.0015,train acc 0.894567,test acc 0.900\n",
      "epoch13,loss0.0015,train acc 0.896250,test acc 0.901\n",
      "epoch14,loss0.0014,train acc 0.898133,test acc 0.903\n",
      "epoch15,loss0.0014,train acc 0.899767,test acc 0.905\n",
      "epoch16,loss0.0014,train acc 0.901133,test acc 0.906\n",
      "epoch17,loss0.0014,train acc 0.902400,test acc 0.907\n",
      "epoch18,loss0.0013,train acc 0.903500,test acc 0.908\n",
      "epoch19,loss0.0013,train acc 0.904717,test acc 0.910\n",
      "epoch20,loss0.0013,train acc 0.905583,test acc 0.911\n"
     ]
    }
   ],
   "source": [
    "train_loss.clear()\n",
    "test_loss.clear()\n",
    "train_loss,test_loss=train(net5,train_iter,test_iter,loss,num_epochs,batch_size,net5.parameters(),lr,optimizer5)"
   ]
  },
  {
   "cell_type": "code",
   "execution_count": 25,
   "id": "6f082acd",
   "metadata": {},
   "outputs": [
    {
     "data": {
      "image/png": "[encoded data removed]",
      "text/plain": [
       "<Figure size 432x288 with 1 Axes>"
      ]
     },
     "metadata": {
      "needs_background": "light"
     },
     "output_type": "display_data"
    }
   ],
   "source": [
    "x=np.linspace(0,len(train_loss),len(train_loss))\n",
    "plt.plot(x,train_loss,label='train_loss',linewidth=1.5)\n",
    "plt.plot(x,test_loss,label='test_loss',linewidth=1.5)\n",
    "plt.xlabel(\"epoch\")\n",
    "plt.ylabel(\"loss\")\n",
    "plt.legend()\n",
    "plt.show()"
   ]
  },
  {
   "cell_type": "code",
   "execution_count": null,
   "id": "60638249",
   "metadata": {},
   "outputs": [],
   "source": []
  }
 ],
 "metadata": {
  "kernelspec": {
   "display_name": "Python 3 (ipykernel)",
   "language": "python",
   "name": "python3"
  },
  "language_info": {
   "codemirror_mode": {
    "name": "ipython",
    "version": 3
   },
   "file_extension": ".py",
   "mimetype": "text/x-python",
   "name": "python",
   "nbconvert_exporter": "python",
   "pygments_lexer": "ipython3",
   "version": "3.9.13"
  },
  "vscode": {
   "interpreter": {
    "hash": "c68792f7cd82460065c5d613846083f799a914df57fed46700f5555136f46f97"
   }
  }
 },
 "nbformat": 4,
 "nbformat_minor": 5
}
