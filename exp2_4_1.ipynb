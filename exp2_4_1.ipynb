{
 "cells": [
  {
   "cell_type": "code",
   "execution_count": 1,
   "id": "9f3e7815",
   "metadata": {},
   "outputs": [],
   "source": [
    "import numpy as np\n",
    "import torch\n",
    "import torchvision\n",
    "import torchvision.transforms as transforms"
   ]
  },
  {
   "cell_type": "code",
   "execution_count": 2,
   "id": "36bf33f1",
   "metadata": {},
   "outputs": [],
   "source": [
    "mnist_train = torchvision.datasets.MNIST(root='~/test/Datasets/MNIST',train=True, download=True, transform=transforms.ToTensor())\n",
    "mnist_test = torchvision.datasets.MNIST(root='~/test/Datasets/MNIST',train=False, download=True, transform=transforms.ToTensor())\n",
    "batch_size = 256\n",
    "train_iter = torch.utils.data.DataLoader(mnist_train, batch_size=batch_size,shuffle=True, num_workers=2)\n",
    "test_iter = torch.utils.data.DataLoader(mnist_test, batch_size=batch_size,shuffle=False, num_workers=2)"
   ]
  },
  {
   "cell_type": "code",
   "execution_count": 25,
   "id": "9db13483",
   "metadata": {},
   "outputs": [],
   "source": [
    "num_inputs,num_outputs,num_hiddens=784,10,256\n",
    "W1=torch.tensor(np.random.normal(0,0.01,(num_hiddens,num_inputs)),dtype=torch.float)\n",
    "b1=torch.zeros(num_hiddens,dtype=torch.float)\n",
    "W2=torch.tensor(np.random.normal(0,0.01,(num_outputs,num_hiddens)),dtype=torch.float)\n",
    "b2=torch.zeros(num_outputs,dtype=torch.float)\n",
    "\n",
    "params=[W1,b1,W2,b2]\n",
    "for param in params:\n",
    "    param.requires_grad_(requires_grad=True)"
   ]
  },
  {
   "cell_type": "code",
   "execution_count": 4,
   "id": "8fdb8774",
   "metadata": {},
   "outputs": [],
   "source": [
    "def relu(X):\n",
    "    return torch.max(input=X,other=torch.tensor(0.0))"
   ]
  },
  {
   "cell_type": "code",
   "execution_count": 5,
   "id": "1747874f",
   "metadata": {},
   "outputs": [],
   "source": [
    "import torch.nn as nn\n",
    "loss = nn.CrossEntropyLoss()"
   ]
  },
  {
   "cell_type": "code",
   "execution_count": 6,
   "id": "b7c89730",
   "metadata": {},
   "outputs": [],
   "source": [
    "def SGD(params,lr):\n",
    "    for param in params:\n",
    "        param.data-=lr*param.grad"
   ]
  },
  {
   "cell_type": "code",
   "execution_count": 26,
   "id": "b3adc520",
   "metadata": {},
   "outputs": [],
   "source": [
    "def dropout(X,drop_prob):\n",
    "    X = X.float()\n",
    "    #检查丢弃概率是否在0到1之间\n",
    "    assert 0 <= drop_prob <= 1\n",
    "    keep_prob = 1 - drop_prob\n",
    "    #这种情况下把元素全部丢弃\n",
    "    if keep_prob == 0:\n",
    "        return torch.zeros_like(X)\n",
    "    #生成mask矩阵(向量)\n",
    "    mask = (torch.rand(X.shape)<keep_prob).float()\n",
    "    #按照mask进行对X进行变换\n",
    "    return mask*X /keep_prob\n",
    "drop_prob1,drop_prob2,drop_prob3,drop_prob4 = 0.2,0.4,0.6,0.9"
   ]
  },
  {
   "cell_type": "code",
   "execution_count": 27,
   "id": "47b33253",
   "metadata": {},
   "outputs": [],
   "source": [
    "def net(X,is_training=True):\n",
    "    X=X.view((-1,num_inputs))\n",
    "    H=relu(torch.matmul(X,W1.t())+b1)\n",
    "    if is_training:\n",
    "        H=dropout(H,drop_prob4)#在第一层全连接后进行dropout\n",
    "    return torch.matmul(H,W2.t())+b2"
   ]
  },
  {
   "cell_type": "code",
   "execution_count": 9,
   "id": "d710bb6a",
   "metadata": {},
   "outputs": [],
   "source": [
    "def evaluate_accuracy(data_iter,net,loss):\n",
    "    acc_sum,n=0.0,0\n",
    "    test_l_sum=0.0\n",
    "    for X,y in data_iter:       \n",
    "        acc_sum+=(net(X,is_training=False).argmax(dim=1)==y).float().sum().item()\n",
    "        l=loss(net(X,is_training=False),y).sum()\n",
    "        test_l_sum+=l.item()\n",
    "        n+=y.shape[0]\n",
    "    return acc_sum/n,test_l_sum/n"
   ]
  },
  {
   "cell_type": "code",
   "execution_count": 10,
   "id": "cba370ea",
   "metadata": {},
   "outputs": [],
   "source": [
    "def train(net,train_iter,test_iter,loss,num_epochs,batch_size,params=None,lr=None,optimizer=None):\n",
    "    train_loss=[]\n",
    "    test_loss=[]\n",
    "    for epoch in range(num_epochs):\n",
    "        train_l_sum,train_acc_sum,n=0.0,0.0,0\n",
    "        for X,y in train_iter:\n",
    "            y_hat = net(X)\n",
    "            l=loss(y_hat,y).sum()\n",
    "            if optimizer is not None:\n",
    "                optimizer.zero_grad()\n",
    "            elif params is not None and params[0].grad is not None:\n",
    "                for param in params:\n",
    "                    param.grad.data.zero_()\n",
    "            l.backward()\n",
    "            if optimizer is None:\n",
    "                SGD(params,lr)\n",
    "            else:\n",
    "                optimizer.step()\n",
    "            train_l_sum+=l.item()\n",
    "            train_acc_sum+=(y_hat.argmax(dim=1)==y).sum().item()\n",
    "            n+=y.shape[0]\n",
    "        test_acc,test_l = evaluate_accuracy(test_iter,net,loss)\n",
    "        train_loss.append(train_l_sum/n)\n",
    "        test_loss.append(test_l)\n",
    "        print('epoch%d,loss%.4f,train acc %3f,test acc %.3f'%(epoch+1,train_l_sum/n,train_acc_sum/n,test_acc))\n",
    "    return train_loss,test_loss"
   ]
  },
  {
   "cell_type": "code",
   "execution_count": 11,
   "id": "6a566932",
   "metadata": {},
   "outputs": [
    {
     "name": "stdout",
     "output_type": "stream",
     "text": [
      "epoch1,loss0.0041,train acc 0.730217,test acc 0.883\n",
      "epoch2,loss0.0016,train acc 0.885217,test acc 0.908\n",
      "epoch3,loss0.0013,train acc 0.904250,test acc 0.919\n",
      "epoch4,loss0.0012,train acc 0.913700,test acc 0.927\n",
      "epoch5,loss0.0011,train acc 0.922600,test acc 0.935\n",
      "epoch6,loss0.0010,train acc 0.930100,test acc 0.939\n",
      "epoch7,loss0.0009,train acc 0.936267,test acc 0.943\n",
      "epoch8,loss0.0008,train acc 0.940300,test acc 0.948\n",
      "epoch9,loss0.0008,train acc 0.945083,test acc 0.951\n",
      "epoch10,loss0.0007,train acc 0.948533,test acc 0.953\n",
      "epoch11,loss0.0007,train acc 0.951750,test acc 0.954\n",
      "epoch12,loss0.0006,train acc 0.953567,test acc 0.957\n",
      "epoch13,loss0.0006,train acc 0.956367,test acc 0.959\n",
      "epoch14,loss0.0006,train acc 0.958833,test acc 0.962\n",
      "epoch15,loss0.0005,train acc 0.961100,test acc 0.963\n",
      "epoch16,loss0.0005,train acc 0.962133,test acc 0.964\n",
      "epoch17,loss0.0005,train acc 0.963933,test acc 0.966\n",
      "epoch18,loss0.0005,train acc 0.965483,test acc 0.966\n",
      "epoch19,loss0.0005,train acc 0.967383,test acc 0.968\n",
      "epoch20,loss0.0004,train acc 0.968367,test acc 0.969\n"
     ]
    }
   ],
   "source": [
    "num_epochs=20\n",
    "lr=0.1\n",
    "train_loss1,test_loss1=train(net,train_iter,test_iter,loss,num_epochs,batch_size,params,lr)"
   ]
  },
  {
   "cell_type": "code",
   "execution_count": 12,
   "id": "9fad86a2",
   "metadata": {},
   "outputs": [
    {
     "data": {
      "image/png": "[encoded data removed]",
      "text/plain": [
       "<Figure size 432x288 with 1 Axes>"
      ]
     },
     "metadata": {
      "needs_background": "light"
     },
     "output_type": "display_data"
    }
   ],
   "source": [
    "import matplotlib.pyplot as plt\n",
    "import numpy as np\n",
    "x=np.linspace(0,len(train_loss1),len(train_loss1))\n",
    "plt.plot(x,train_loss1,label='train_loss1',linewidth=1.5)\n",
    "plt.plot(x,test_loss1,label='test_loss1',linewidth=1.5)\n",
    "plt.xlabel(\"epoch\")\n",
    "plt.ylabel(\"loss\")\n",
    "plt.legend()\n",
    "plt.show()"
   ]
  },
  {
   "cell_type": "code",
   "execution_count": 15,
   "id": "315fea62",
   "metadata": {},
   "outputs": [
    {
     "name": "stdout",
     "output_type": "stream",
     "text": [
      "epoch1,loss0.0043,train acc 0.718733,test acc 0.887\n",
      "epoch2,loss0.0017,train acc 0.877233,test acc 0.908\n",
      "epoch3,loss0.0014,train acc 0.899283,test acc 0.924\n",
      "epoch4,loss0.0012,train acc 0.910967,test acc 0.932\n",
      "epoch5,loss0.0011,train acc 0.920900,test acc 0.939\n",
      "epoch6,loss0.0010,train acc 0.928717,test acc 0.942\n",
      "epoch7,loss0.0009,train acc 0.934867,test acc 0.948\n",
      "epoch8,loss0.0008,train acc 0.939200,test acc 0.950\n",
      "epoch9,loss0.0008,train acc 0.943367,test acc 0.955\n",
      "epoch10,loss0.0007,train acc 0.947300,test acc 0.957\n",
      "epoch11,loss0.0007,train acc 0.949233,test acc 0.960\n",
      "epoch12,loss0.0007,train acc 0.951933,test acc 0.961\n",
      "epoch13,loss0.0006,train acc 0.954767,test acc 0.962\n",
      "epoch14,loss0.0006,train acc 0.957617,test acc 0.963\n",
      "epoch15,loss0.0006,train acc 0.958933,test acc 0.965\n",
      "epoch16,loss0.0006,train acc 0.959917,test acc 0.967\n",
      "epoch17,loss0.0005,train acc 0.961450,test acc 0.968\n",
      "epoch18,loss0.0005,train acc 0.962650,test acc 0.969\n",
      "epoch19,loss0.0005,train acc 0.962783,test acc 0.970\n",
      "epoch20,loss0.0005,train acc 0.964517,test acc 0.970\n"
     ]
    }
   ],
   "source": [
    "train_loss2,test_loss2=train(net,train_iter,test_iter,loss,num_epochs,batch_size,params,lr)"
   ]
  },
  {
   "cell_type": "code",
   "execution_count": 16,
   "id": "eed63825",
   "metadata": {},
   "outputs": [
    {
     "data": {
      "image/png": "[encoded data removed]",
      "text/plain": [
       "<Figure size 432x288 with 1 Axes>"
      ]
     },
     "metadata": {
      "needs_background": "light"
     },
     "output_type": "display_data"
    }
   ],
   "source": [
    "x=np.linspace(0,len(train_loss2),len(train_loss2))\n",
    "plt.plot(x,train_loss2,label='train_loss2',linewidth=1.5)\n",
    "plt.plot(x,test_loss2,label='test_loss2',linewidth=1.5)\n",
    "plt.xlabel(\"epoch\")\n",
    "plt.ylabel(\"loss\")\n",
    "plt.legend()\n",
    "plt.show()"
   ]
  },
  {
   "cell_type": "code",
   "execution_count": 19,
   "id": "ff6d7f72",
   "metadata": {},
   "outputs": [
    {
     "name": "stdout",
     "output_type": "stream",
     "text": [
      "epoch1,loss0.0045,train acc 0.689417,test acc 0.883\n",
      "epoch2,loss0.0019,train acc 0.864533,test acc 0.906\n",
      "epoch3,loss0.0015,train acc 0.890167,test acc 0.922\n",
      "epoch4,loss0.0013,train acc 0.905217,test acc 0.930\n",
      "epoch5,loss0.0012,train acc 0.913633,test acc 0.936\n",
      "epoch6,loss0.0011,train acc 0.922033,test acc 0.943\n",
      "epoch7,loss0.0010,train acc 0.926250,test acc 0.947\n",
      "epoch8,loss0.0009,train acc 0.931483,test acc 0.950\n",
      "epoch9,loss0.0009,train acc 0.935217,test acc 0.952\n",
      "epoch10,loss0.0009,train acc 0.938450,test acc 0.955\n",
      "epoch11,loss0.0008,train acc 0.942283,test acc 0.956\n",
      "epoch12,loss0.0008,train acc 0.944250,test acc 0.959\n",
      "epoch13,loss0.0007,train acc 0.946967,test acc 0.961\n",
      "epoch14,loss0.0007,train acc 0.948000,test acc 0.963\n",
      "epoch15,loss0.0007,train acc 0.949250,test acc 0.963\n",
      "epoch16,loss0.0007,train acc 0.951633,test acc 0.964\n",
      "epoch17,loss0.0006,train acc 0.953650,test acc 0.965\n",
      "epoch18,loss0.0006,train acc 0.955167,test acc 0.966\n",
      "epoch19,loss0.0006,train acc 0.956633,test acc 0.968\n",
      "epoch20,loss0.0006,train acc 0.957167,test acc 0.967\n"
     ]
    }
   ],
   "source": [
    "train_loss3,test_loss3=train(net,train_iter,test_iter,loss,num_epochs,batch_size,params,lr)"
   ]
  },
  {
   "cell_type": "code",
   "execution_count": 20,
   "id": "78df7aa1",
   "metadata": {},
   "outputs": [
    {
     "data": {
      "image/png": "[encoded data removed]",
      "text/plain": [
       "<Figure size 432x288 with 1 Axes>"
      ]
     },
     "metadata": {
      "needs_background": "light"
     },
     "output_type": "display_data"
    }
   ],
   "source": [
    "x=np.linspace(0,len(train_loss3),len(train_loss3))\n",
    "plt.plot(x,train_loss3,label='train_loss3',linewidth=1.5)\n",
    "plt.plot(x,test_loss3,label='test_loss3',linewidth=1.5)\n",
    "plt.xlabel(\"epoch\")\n",
    "plt.ylabel(\"loss\")\n",
    "plt.legend()\n",
    "plt.show()"
   ]
  },
  {
   "cell_type": "code",
   "execution_count": 28,
   "id": "b204a3e4",
   "metadata": {},
   "outputs": [
    {
     "name": "stdout",
     "output_type": "stream",
     "text": [
      "epoch1,loss0.0055,train acc 0.555850,test acc 0.872\n",
      "epoch2,loss0.0030,train acc 0.763700,test acc 0.900\n",
      "epoch3,loss0.0025,train acc 0.807600,test acc 0.911\n",
      "epoch4,loss0.0023,train acc 0.825733,test acc 0.916\n",
      "epoch5,loss0.0021,train acc 0.837233,test acc 0.923\n",
      "epoch6,loss0.0020,train acc 0.845733,test acc 0.927\n",
      "epoch7,loss0.0019,train acc 0.848800,test acc 0.932\n",
      "epoch8,loss0.0019,train acc 0.854350,test acc 0.934\n",
      "epoch9,loss0.0018,train acc 0.856217,test acc 0.935\n",
      "epoch10,loss0.0018,train acc 0.857900,test acc 0.936\n",
      "epoch11,loss0.0018,train acc 0.863483,test acc 0.939\n",
      "epoch12,loss0.0017,train acc 0.863650,test acc 0.943\n",
      "epoch13,loss0.0017,train acc 0.864767,test acc 0.943\n",
      "epoch14,loss0.0017,train acc 0.867567,test acc 0.945\n",
      "epoch15,loss0.0017,train acc 0.867817,test acc 0.945\n",
      "epoch16,loss0.0017,train acc 0.869283,test acc 0.947\n",
      "epoch17,loss0.0017,train acc 0.871167,test acc 0.947\n",
      "epoch18,loss0.0016,train acc 0.872400,test acc 0.948\n",
      "epoch19,loss0.0016,train acc 0.871550,test acc 0.949\n",
      "epoch20,loss0.0016,train acc 0.875750,test acc 0.948\n"
     ]
    }
   ],
   "source": [
    "train_loss4,test_loss4=train(net,train_iter,test_iter,loss,num_epochs,batch_size,params,lr)"
   ]
  },
  {
   "cell_type": "code",
   "execution_count": 29,
   "id": "fc3de184",
   "metadata": {},
   "outputs": [
    {
     "data": {
      "image/png": "[encoded data removed]",
      "text/plain": [
       "<Figure size 432x288 with 1 Axes>"
      ]
     },
     "metadata": {
      "needs_background": "light"
     },
     "output_type": "display_data"
    }
   ],
   "source": [
    "x=np.linspace(0,len(train_loss4),len(train_loss4))\n",
    "plt.plot(x,train_loss4,label='train_loss4',linewidth=1.5)\n",
    "plt.plot(x,test_loss4,label='test_loss4',linewidth=1.5)\n",
    "plt.xlabel(\"epoch\")\n",
    "plt.ylabel(\"loss\")\n",
    "plt.legend()\n",
    "plt.show()"
   ]
  },
  {
   "cell_type": "code",
   "execution_count": null,
   "id": "f7942e9b",
   "metadata": {},
   "outputs": [],
   "source": []
  }
 ],
 "metadata": {
  "kernelspec": {
   "display_name": "Python 3 (ipykernel)",
   "language": "python",
   "name": "python3"
  },
  "language_info": {
   "codemirror_mode": {
    "name": "ipython",
    "version": 3
   },
   "file_extension": ".py",
   "mimetype": "text/x-python",
   "name": "python",
   "nbconvert_exporter": "python",
   "pygments_lexer": "ipython3",
   "version": "3.9.13"
  }
 },
 "nbformat": 4,
 "nbformat_minor": 5
}
