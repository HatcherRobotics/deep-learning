{
 "cells": [
  {
   "cell_type": "code",
   "execution_count": 1,
   "metadata": {},
   "outputs": [],
   "source": [
    "import torch\n",
    "import torch.nn as nn\n",
    "from torch.nn import functional as F\n",
    "import torch.optim as optim"
   ]
  },
  {
   "cell_type": "code",
   "execution_count": 2,
   "metadata": {},
   "outputs": [],
   "source": [
    "class DilationConv(nn.Module):\n",
    "    def __init__(self):\n",
    "        super(DilationConv, self).__init__()\n",
    "        # 定义一个三层卷积\n",
    "        self.conv = nn.Sequential(\n",
    "            nn.Conv2d(dilation=1,in_channels=3, out_channels=32,kernel_size=3, stride=1, padding=0),\n",
    "            nn.BatchNorm2d(32),\n",
    "            nn.ReLU(inplace=True),\n",
    "            nn.Conv2d(dilation=2,in_channels=32, out_channels=64,kernel_size=3, stride=1, padding=0),\n",
    "            nn.BatchNorm2d(64),\n",
    "            nn.ReLU(inplace=True),\n",
    "            nn.Conv2d(dilation=5,in_channels=64, out_channels=128,kernel_size=3, stride=1, padding=0),\n",
    "            nn.BatchNorm2d(128),\n",
    "            nn.ReLU(inplace=True)\n",
    "        )\n",
    "        self.fc = nn.Sequential(\n",
    "            #nn.Flatten(),\n",
    "            nn.Linear(128, 3)\n",
    "\n",
    "        ) \n",
    "        \n",
    "    def forward(self, X):\n",
    "        # 图片先经过三层卷积，输出维度(batch_size,C_out,H,W)\n",
    "        out = self.conv(X)\n",
    "        #print(out.size())\n",
    "        # 使用平均池化层将图片的大小变为1X1\n",
    "        out = F.avg_pool2d(out, 211)\n",
    "        # 将张量out从shape batch 128 x 1 x 1 x 1 变成  batch 128\n",
    "        out = out.squeeze()\n",
    "        # 输入到全连接层将输出的维度变为3\n",
    "        out = self.fc(out)\n",
    "        return out"
   ]
  },
  {
   "cell_type": "code",
   "execution_count": 3,
   "metadata": {},
   "outputs": [],
   "source": [
    "device = torch.device(\"cuda\")"
   ]
  },
  {
   "cell_type": "code",
   "execution_count": 4,
   "metadata": {},
   "outputs": [
    {
     "name": "stderr",
     "output_type": "stream",
     "text": [
      "/tmp/ipykernel_3175/344122819.py:81: UserWarning: Creating a tensor from a list of numpy.ndarrays is extremely slow. Please consider converting the list to a single numpy.ndarray with numpy.array() before converting to a tensor. (Triggered internally at  ../torch/csrc/utils/tensor_new.cpp:201.)\n",
      "  train_x = torch.Tensor(train_x).permute(0,3,1,2)\n"
     ]
    },
    {
     "name": "stdout",
     "output_type": "stream",
     "text": [
      "train_x: torch.Size([1722, 3, 227, 227])\n",
      "test_x: torch.Size([431, 3, 227, 227])\n",
      "train_y: torch.Size([1722, 3])\n",
      "test_y: torch.Size([431, 3])\n",
      "train_x: torch.Size([1700, 3, 227, 227])\n",
      "test_x: torch.Size([430, 3, 227, 227])\n",
      "train_y: torch.Size([1700, 3])\n",
      "test_y: torch.Size([430, 3])\n"
     ]
    }
   ],
   "source": [
    "# 数据增强 镜像操作/直方图均衡化\n",
    "# car 779 truck 360 bus 218\n",
    "import os\n",
    "import cv2 as cv\n",
    "\n",
    "bus_path = '/home/hatcher/test/deep-learning/VehicleDataset/bus'\n",
    "car_path = '/home/hatcher/test/deep-learning/VehicleDataset/car'\n",
    "truck_path = '/home/hatcher/test/deep-learning/VehicleDataset/truck'\n",
    "bus_pics = os.listdir(bus_path)\n",
    "car_pics = os.listdir(car_path)\n",
    "truck_pics = os.listdir(truck_path)\n",
    "bus_list, car_list, truck_list = [], [], []\n",
    "\n",
    "for bus_pic in bus_pics:\n",
    "    img = cv.imread(bus_path+\"/\"+bus_pic)\n",
    "    img = cv.resize(img, (227, 227))\n",
    "    flip_img = cv.flip(img, 1)\n",
    "    equ_img = cv.equalizeHist(cv.cvtColor(img,cv.COLOR_BGR2GRAY))\n",
    "    equ_img=cv.cvtColor(equ_img,cv.COLOR_GRAY2BGR)\n",
    "    img = img/255\n",
    "    bus_list.append(img)\n",
    "    flip_img = flip_img/255\n",
    "    bus_list.append(flip_img)\n",
    "    equ_img = equ_img/255\n",
    "    bus_list.append(equ_img)\n",
    "\n",
    "for car_pic in car_pics:\n",
    "    img = cv.imread(car_path+\"/\"+car_pic)\n",
    "    img = cv.resize(img, (227, 227))\n",
    "    img = img/255\n",
    "    car_list.append(img)\n",
    "\n",
    "for truck_pic in truck_pics:\n",
    "    img = cv.imread(truck_path+\"/\"+truck_pic)\n",
    "    img = cv.resize(img, (227, 227))\n",
    "    flip_img = cv.flip(img, 1)\n",
    "    img = img/255\n",
    "    truck_list.append(img)\n",
    "    flip_img = flip_img/255\n",
    "    truck_list.append(flip_img)\n",
    "\n",
    "bus_length = len(bus_list)\n",
    "car_length = len(car_list)\n",
    "truck_length = len(truck_list)\n",
    "num_bus_train = int(len(bus_list)*0.8)\n",
    "num_car_train = int(len(car_list)*0.8)\n",
    "num_truck_train = int(len(truck_list)*0.8)\n",
    "train_y,test_y=[],[]\n",
    "for i in range(num_bus_train):\n",
    "    #train_y.append([1,0,0,0,0,0,0,0,0,0])\n",
    "    train_y.append([1,0,0])\n",
    "for i in range(num_car_train):\n",
    "    #train_y.append([0,1,0,0,0,0,0,0,0,0])\n",
    "    train_y.append([0,1,0])\n",
    "for i in range(num_truck_train):\n",
    "    #train_y.append([0,0,1,0,0,0,0,0,0,0])\n",
    "    train_y.append([0,0,1])\n",
    "for i in range(num_bus_train,bus_length):\n",
    "    #test_y.append([1,0,0,0,0,0,0,0,0,0])\n",
    "    test_y.append([1,0,0])\n",
    "for i in range(num_car_train,car_length):\n",
    "    #test_y.append([0,1,0,0,0,0,0,0,0,0])\n",
    "    test_y.append([0,1,0])\n",
    "for i in range(num_truck_train,truck_length):\n",
    "    #test_y.append([0,0,1,0,0,0,0,0,0,0])\n",
    "    test_y.append([0,0,1])\n",
    "train_x,test_x=[],[]\n",
    "for i in range(num_bus_train):\n",
    "    train_x.append(bus_list[i])\n",
    "for i in range(num_car_train):\n",
    "    train_x.append(car_list[i])\n",
    "for i in range(num_truck_train):\n",
    "    train_x.append(truck_list[i])\n",
    "for i in range(num_bus_train,bus_length):\n",
    "    test_x.append(bus_list[i])\n",
    "for i in range(num_car_train,car_length):\n",
    "    test_x.append(car_list[i])\n",
    "for i in range(num_truck_train,truck_length):\n",
    "    test_x.append(truck_list[i])\n",
    "\n",
    "train_x = torch.Tensor(train_x).permute(0,3,1,2)\n",
    "test_x = torch.Tensor(test_x).permute(0,3,1,2)\n",
    "train_y = torch.Tensor(train_y)\n",
    "test_y = torch.Tensor(test_y)\n",
    "print(\"train_x:\",train_x.size())\n",
    "print(\"test_x:\",test_x.size())\n",
    "print(\"train_y:\",train_y.size())\n",
    "print(\"test_y:\",test_y.size())\n",
    "train_x = train_x[1:1701,:,:,:]\n",
    "test_x = test_x[1:431,:,:,:]\n",
    "train_y = train_y[1:1701,:]\n",
    "test_y = test_y[1:431,:]\n",
    "print(\"train_x:\",train_x.size())\n",
    "print(\"test_x:\",test_x.size())\n",
    "print(\"train_y:\",train_y.size())\n",
    "print(\"test_y:\",test_y.size())"
   ]
  },
  {
   "cell_type": "code",
   "execution_count": 5,
   "metadata": {},
   "outputs": [],
   "source": [
    "import torch.utils.data as Data\n",
    "batch_size = 20# 将训练数据的特征和标签组合\n",
    "train_dataset,test_dataset = Data.TensorDataset(train_x, train_y),Data.TensorDataset(test_x, test_y)\n",
    "# 把 dataset 放入 DataLoader\n",
    "train_iter = Data.DataLoader(dataset=train_dataset, batch_size=batch_size, shuffle=True,num_workers=2)\n",
    "test_iter = Data.DataLoader(dataset=test_dataset, batch_size=batch_size, shuffle=True,num_workers=2)"
   ]
  },
  {
   "cell_type": "code",
   "execution_count": 6,
   "metadata": {},
   "outputs": [],
   "source": [
    "def evaluate_accuracy(data_iter, net, loss):\n",
    "    acc_sum, n = 0.0, 0\n",
    "    test_l_sum = 0.0\n",
    "    for X, y in data_iter:\n",
    "        X = X.to(device)\n",
    "        y = y.to(device)\n",
    "        y_hat = net(X)\n",
    "        y_hat = y_hat.squeeze()\n",
    "        #y_hat = y_hat.view(1,-1) \n",
    "        acc_sum += (y_hat.argmax(dim=1) == y.argmax(dim=1)).sum().item()\n",
    "        l = loss(y_hat, y).sum()\n",
    "        test_l_sum += l.item()\n",
    "        n += y.shape[0]\n",
    "    return acc_sum/n, test_l_sum/n"
   ]
  },
  {
   "cell_type": "code",
   "execution_count": 7,
   "metadata": {},
   "outputs": [],
   "source": [
    "def train(net,train_iter,test_iter,loss,num_epochs,batch_size,params=None,lr=None,optimizer=None):\n",
    "    train_loss=[]\n",
    "    test_loss=[]\n",
    "    for epoch in range(num_epochs):\n",
    "        train_l_sum,train_acc_sum,n=0.0,0.0,0\n",
    "        for X,y in train_iter:\n",
    "            X = X.to(device)\n",
    "            y = y.to(device)\n",
    "            #print(y.size())\n",
    "            y_hat = net(X)\n",
    "            y_hat = y_hat.squeeze()\n",
    "            #y_hat = y_hat.view(1,-1) \n",
    "            #print(y_hat.size())\n",
    "            l=loss(y_hat,y).sum()\n",
    "            if optimizer is not None:\n",
    "                optimizer.zero_grad()\n",
    "            elif params is not None and params[0].grad is not None:\n",
    "                for param in params:\n",
    "                    param.grad.data.zero_()\n",
    "            l.backward()\n",
    "            if optimizer is None:\n",
    "                SGD(params,lr)\n",
    "            else:\n",
    "                optimizer.step()\n",
    "            train_l_sum+=l.item()\n",
    "            '''print(y_hat.shape)\n",
    "            print(y.shape)\n",
    "            print(y_hat)\n",
    "            print(y_hat.argmax(dim=1))\n",
    "            print(y)\n",
    "            print(y_hat.argmax(dim=1)==y)\n",
    "            '''\n",
    "            train_acc_sum+=(y_hat.argmax(dim=1)==y.argmax(dim=1)).sum().item()\n",
    "            n+=y.shape[0]\n",
    "        test_acc,test_l = evaluate_accuracy(test_iter,net,loss)\n",
    "        train_loss.append(train_l_sum/n)\n",
    "        test_loss.append(test_l)\n",
    "        print('epoch%d,loss%.4f,train acc %3f,test acc %.3f'%(epoch+1,train_l_sum/n,train_acc_sum/n,test_acc))\n",
    "    return train_loss,test_loss"
   ]
  },
  {
   "cell_type": "code",
   "execution_count": 8,
   "metadata": {},
   "outputs": [],
   "source": [
    "num_epochs=40\n",
    "lr=0.03\n",
    "loss=nn.CrossEntropyLoss()\n",
    "net = DilationConv()\n",
    "net.to(device)\n",
    "optimizer=torch.optim.SGD(net.parameters(),lr)\n",
    "for params in net.parameters():\n",
    "    nn.init.normal_(params,mean=0,std=0.01)"
   ]
  },
  {
   "cell_type": "code",
   "execution_count": 9,
   "metadata": {},
   "outputs": [
    {
     "name": "stdout",
     "output_type": "stream",
     "text": [
      "epoch1,loss0.0549,train acc 0.351765,test acc 0.363\n",
      "epoch2,loss0.0548,train acc 0.366471,test acc 0.363\n",
      "epoch3,loss0.0548,train acc 0.366471,test acc 0.363\n",
      "epoch4,loss0.0548,train acc 0.366471,test acc 0.363\n",
      "epoch5,loss0.0548,train acc 0.366471,test acc 0.363\n",
      "epoch6,loss0.0548,train acc 0.366471,test acc 0.363\n",
      "epoch7,loss0.0547,train acc 0.366471,test acc 0.363\n",
      "epoch8,loss0.0547,train acc 0.366471,test acc 0.363\n",
      "epoch9,loss0.0544,train acc 0.366471,test acc 0.384\n",
      "epoch10,loss0.0540,train acc 0.432941,test acc 0.549\n",
      "epoch11,loss0.0529,train acc 0.578824,test acc 0.607\n",
      "epoch12,loss0.0515,train acc 0.575294,test acc 0.607\n",
      "epoch13,loss0.0490,train acc 0.595294,test acc 0.558\n",
      "epoch14,loss0.0467,train acc 0.580588,test acc 0.600\n",
      "epoch15,loss0.0445,train acc 0.601176,test acc 0.612\n",
      "epoch16,loss0.0419,train acc 0.612353,test acc 0.621\n",
      "epoch17,loss0.0409,train acc 0.608824,test acc 0.619\n",
      "epoch18,loss0.0392,train acc 0.620000,test acc 0.633\n",
      "epoch19,loss0.0376,train acc 0.656471,test acc 0.656\n",
      "epoch20,loss0.0360,train acc 0.701765,test acc 0.716\n",
      "epoch21,loss0.0358,train acc 0.741176,test acc 0.742\n",
      "epoch22,loss0.0339,train acc 0.775882,test acc 0.760\n",
      "epoch23,loss0.0310,train acc 0.793529,test acc 0.791\n",
      "epoch24,loss0.0312,train acc 0.801176,test acc 0.795\n",
      "epoch25,loss0.0306,train acc 0.791765,test acc 0.770\n",
      "epoch26,loss0.0294,train acc 0.798235,test acc 0.809\n",
      "epoch27,loss0.0275,train acc 0.810000,test acc 0.798\n",
      "epoch28,loss0.0263,train acc 0.811176,test acc 0.788\n",
      "epoch29,loss0.0266,train acc 0.804706,test acc 0.814\n",
      "epoch30,loss0.0247,train acc 0.827647,test acc 0.786\n",
      "epoch31,loss0.0239,train acc 0.836471,test acc 0.819\n",
      "epoch32,loss0.0236,train acc 0.838824,test acc 0.840\n",
      "epoch33,loss0.0226,train acc 0.842941,test acc 0.835\n",
      "epoch34,loss0.0223,train acc 0.831176,test acc 0.798\n",
      "epoch35,loss0.0222,train acc 0.844706,test acc 0.860\n",
      "epoch36,loss0.0212,train acc 0.848824,test acc 0.833\n",
      "epoch37,loss0.0211,train acc 0.857647,test acc 0.865\n",
      "epoch38,loss0.0196,train acc 0.865294,test acc 0.842\n",
      "epoch39,loss0.0192,train acc 0.858824,test acc 0.853\n",
      "epoch40,loss0.0196,train acc 0.854706,test acc 0.849\n"
     ]
    }
   ],
   "source": [
    "train_loss,test_loss=train(net,train_iter,test_iter,loss,num_epochs,batch_size,net.parameters(),lr,optimizer)"
   ]
  },
  {
   "cell_type": "code",
   "execution_count": 10,
   "metadata": {},
   "outputs": [
    {
     "data": {
      "image/png": "[encoded data removed]",
      "text/plain": [
       "<Figure size 640x480 with 1 Axes>"
      ]
     },
     "metadata": {},
     "output_type": "display_data"
    }
   ],
   "source": [
    "import matplotlib.pyplot as plt\n",
    "import numpy as np\n",
    "x=np.linspace(0,len(train_loss),len(train_loss))\n",
    "plt.plot(x,train_loss,label='train_loss',linewidth=1.5)\n",
    "plt.plot(x,test_loss,label='test_loss',linewidth=1.5)\n",
    "plt.xlabel(\"epoch\")\n",
    "plt.ylabel(\"loss\")\n",
    "plt.legend()\n",
    "plt.show()"
   ]
  }
 ],
 "metadata": {
  "kernelspec": {
   "display_name": "Python 3.9.13 ('base')",
   "language": "python",
   "name": "python3"
  },
  "language_info": {
   "codemirror_mode": {
    "name": "ipython",
    "version": 3
   },
   "file_extension": ".py",
   "mimetype": "text/x-python",
   "name": "python",
   "nbconvert_exporter": "python",
   "pygments_lexer": "ipython3",
   "version": "3.9.13"
  },
  "orig_nbformat": 4,
  "vscode": {
   "interpreter": {
    "hash": "c68792f7cd82460065c5d613846083f799a914df57fed46700f5555136f46f97"
   }
  }
 },
 "nbformat": 4,
 "nbformat_minor": 2
}
