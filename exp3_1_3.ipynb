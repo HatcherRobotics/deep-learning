{
 "cells": [
  {
   "cell_type": "code",
   "execution_count": 1,
   "metadata": {},
   "outputs": [],
   "source": [
    "import torch\n",
    "import torch.nn as nn\n",
    "from torch.nn import functional as F\n",
    "import torch.optim as optim"
   ]
  },
  {
   "cell_type": "code",
   "execution_count": 12,
   "metadata": {},
   "outputs": [],
   "source": [
    "class AlexNet(nn.Module):\n",
    "    def __init__(self):\n",
    "        super(AlexNet,self).__init__()\n",
    "        self.features= nn.Sequential(\n",
    "            nn.Conv2d(kernel_size=3,in_channels=3,out_channels=96,stride=4,padding=1),\n",
    "            nn.BatchNorm2d(96),\n",
    "            nn.ReLU(inplace=True),\n",
    "            nn.MaxPool2d(kernel_size=3,stride=2),\n",
    "\n",
    "            nn.Conv2d(kernel_size=5,in_channels=96,out_channels=256,stride=1,padding=2),\n",
    "            nn.BatchNorm2d(256),\n",
    "            nn.ReLU(inplace=True),\n",
    "            nn.MaxPool2d(kernel_size=3,stride=2),\n",
    "\n",
    "            nn.Conv2d(kernel_size=3,in_channels=256,out_channels=384,stride=1,padding=1),\n",
    "            nn.BatchNorm2d(384),\n",
    "            nn.ReLU(inplace=True),\n",
    "\n",
    "            nn.Conv2d(kernel_size=3,in_channels=384,out_channels=384,stride=1,padding=1),\n",
    "            nn.BatchNorm2d(384),\n",
    "            nn.ReLU(inplace=True),            \n",
    "        )\n",
    "        self.classifier = nn.Sequential(\n",
    "            nn.Linear(384,4096),\n",
    "            nn.Dropout(),\n",
    "            nn.Linear(4096,4096),\n",
    "            nn.Dropout(),\n",
    "            nn.Linear(4096,3)\n",
    "        )\n",
    "\n",
    "\n",
    "    def forward(self,X):\n",
    "        feature = self.features(X)\n",
    "        out = F.avg_pool2d(feature,13)\n",
    "        out = out.squeeze()\n",
    "        out = self.classifier(out)\n",
    "        return out\n"
   ]
  },
  {
   "cell_type": "code",
   "execution_count": 3,
   "metadata": {},
   "outputs": [],
   "source": [
    "device = torch.device(\"cuda\")"
   ]
  },
  {
   "cell_type": "code",
   "execution_count": 4,
   "metadata": {},
   "outputs": [
    {
     "name": "stderr",
     "output_type": "stream",
     "text": [
      "/tmp/ipykernel_250766/344122819.py:81: UserWarning: Creating a tensor from a list of numpy.ndarrays is extremely slow. Please consider converting the list to a single numpy.ndarray with numpy.array() before converting to a tensor. (Triggered internally at  ../torch/csrc/utils/tensor_new.cpp:201.)\n",
      "  train_x = torch.Tensor(train_x).permute(0,3,1,2)\n"
     ]
    },
    {
     "name": "stdout",
     "output_type": "stream",
     "text": [
      "train_x: torch.Size([1722, 3, 227, 227])\n",
      "test_x: torch.Size([431, 3, 227, 227])\n",
      "train_y: torch.Size([1722, 3])\n",
      "test_y: torch.Size([431, 3])\n",
      "train_x: torch.Size([1700, 3, 227, 227])\n",
      "test_x: torch.Size([430, 3, 227, 227])\n",
      "train_y: torch.Size([1700, 3])\n",
      "test_y: torch.Size([430, 3])\n"
     ]
    }
   ],
   "source": [
    "# 数据增强 镜像操作/直方图均衡化\n",
    "# car 779 truck 360 bus 218\n",
    "import os\n",
    "import cv2 as cv\n",
    "\n",
    "bus_path = '/home/hatcher/test/deep-learning/VehicleDataset/bus'\n",
    "car_path = '/home/hatcher/test/deep-learning/VehicleDataset/car'\n",
    "truck_path = '/home/hatcher/test/deep-learning/VehicleDataset/truck'\n",
    "bus_pics = os.listdir(bus_path)\n",
    "car_pics = os.listdir(car_path)\n",
    "truck_pics = os.listdir(truck_path)\n",
    "bus_list, car_list, truck_list = [], [], []\n",
    "\n",
    "for bus_pic in bus_pics:\n",
    "    img = cv.imread(bus_path+\"/\"+bus_pic)\n",
    "    img = cv.resize(img, (227, 227))\n",
    "    flip_img = cv.flip(img, 1)\n",
    "    equ_img = cv.equalizeHist(cv.cvtColor(img,cv.COLOR_BGR2GRAY))\n",
    "    equ_img=cv.cvtColor(equ_img,cv.COLOR_GRAY2BGR)\n",
    "    img = img/255\n",
    "    bus_list.append(img)\n",
    "    flip_img = flip_img/255\n",
    "    bus_list.append(flip_img)\n",
    "    equ_img = equ_img/255\n",
    "    bus_list.append(equ_img)\n",
    "\n",
    "for car_pic in car_pics:\n",
    "    img = cv.imread(car_path+\"/\"+car_pic)\n",
    "    img = cv.resize(img, (227, 227))\n",
    "    img = img/255\n",
    "    car_list.append(img)\n",
    "\n",
    "for truck_pic in truck_pics:\n",
    "    img = cv.imread(truck_path+\"/\"+truck_pic)\n",
    "    img = cv.resize(img, (227, 227))\n",
    "    flip_img = cv.flip(img, 1)\n",
    "    img = img/255\n",
    "    truck_list.append(img)\n",
    "    flip_img = flip_img/255\n",
    "    truck_list.append(flip_img)\n",
    "\n",
    "bus_length = len(bus_list)\n",
    "car_length = len(car_list)\n",
    "truck_length = len(truck_list)\n",
    "num_bus_train = int(len(bus_list)*0.8)\n",
    "num_car_train = int(len(car_list)*0.8)\n",
    "num_truck_train = int(len(truck_list)*0.8)\n",
    "train_y,test_y=[],[]\n",
    "for i in range(num_bus_train):\n",
    "    #train_y.append([1,0,0,0,0,0,0,0,0,0])\n",
    "    train_y.append([1,0,0])\n",
    "for i in range(num_car_train):\n",
    "    #train_y.append([0,1,0,0,0,0,0,0,0,0])\n",
    "    train_y.append([0,1,0])\n",
    "for i in range(num_truck_train):\n",
    "    #train_y.append([0,0,1,0,0,0,0,0,0,0])\n",
    "    train_y.append([0,0,1])\n",
    "for i in range(num_bus_train,bus_length):\n",
    "    #test_y.append([1,0,0,0,0,0,0,0,0,0])\n",
    "    test_y.append([1,0,0])\n",
    "for i in range(num_car_train,car_length):\n",
    "    #test_y.append([0,1,0,0,0,0,0,0,0,0])\n",
    "    test_y.append([0,1,0])\n",
    "for i in range(num_truck_train,truck_length):\n",
    "    #test_y.append([0,0,1,0,0,0,0,0,0,0])\n",
    "    test_y.append([0,0,1])\n",
    "train_x,test_x=[],[]\n",
    "for i in range(num_bus_train):\n",
    "    train_x.append(bus_list[i])\n",
    "for i in range(num_car_train):\n",
    "    train_x.append(car_list[i])\n",
    "for i in range(num_truck_train):\n",
    "    train_x.append(truck_list[i])\n",
    "for i in range(num_bus_train,bus_length):\n",
    "    test_x.append(bus_list[i])\n",
    "for i in range(num_car_train,car_length):\n",
    "    test_x.append(car_list[i])\n",
    "for i in range(num_truck_train,truck_length):\n",
    "    test_x.append(truck_list[i])\n",
    "\n",
    "train_x = torch.Tensor(train_x).permute(0,3,1,2)\n",
    "test_x = torch.Tensor(test_x).permute(0,3,1,2)\n",
    "train_y = torch.Tensor(train_y)\n",
    "test_y = torch.Tensor(test_y)\n",
    "print(\"train_x:\",train_x.size())\n",
    "print(\"test_x:\",test_x.size())\n",
    "print(\"train_y:\",train_y.size())\n",
    "print(\"test_y:\",test_y.size())\n",
    "train_x = train_x[1:1701,:,:,:]\n",
    "test_x = test_x[1:431,:,:,:]\n",
    "train_y = train_y[1:1701,:]\n",
    "test_y = test_y[1:431,:]\n",
    "print(\"train_x:\",train_x.size())\n",
    "print(\"test_x:\",test_x.size())\n",
    "print(\"train_y:\",train_y.size())\n",
    "print(\"test_y:\",test_y.size())"
   ]
  },
  {
   "cell_type": "code",
   "execution_count": 15,
   "metadata": {},
   "outputs": [],
   "source": [
    "import torch.utils.data as Data\n",
    "batch_size = 20# 将训练数据的特征和标签组合\n",
    "train_dataset,test_dataset = Data.TensorDataset(train_x, train_y),Data.TensorDataset(test_x, test_y)\n",
    "# 把 dataset 放入 DataLoader\n",
    "train_iter = Data.DataLoader(dataset=train_dataset, batch_size=batch_size, shuffle=True,num_workers=2)\n",
    "test_iter = Data.DataLoader(dataset=test_dataset, batch_size=batch_size, shuffle=True,num_workers=2)"
   ]
  },
  {
   "cell_type": "code",
   "execution_count": 6,
   "metadata": {},
   "outputs": [],
   "source": [
    "def evaluate_accuracy(data_iter, net, loss):\n",
    "    acc_sum, n = 0.0, 0\n",
    "    test_l_sum = 0.0\n",
    "    for X, y in data_iter:\n",
    "        X = X.to(device)\n",
    "        y = y.to(device)\n",
    "        y_hat = net(X)\n",
    "        y_hat = y_hat.squeeze()\n",
    "        #y_hat = y_hat.view(1,-1) \n",
    "        acc_sum += (y_hat.argmax(dim=1) == y.argmax(dim=1)).sum().item()\n",
    "        l = loss(y_hat, y).sum()\n",
    "        test_l_sum += l.item()\n",
    "        n += y.shape[0]\n",
    "    return acc_sum/n, test_l_sum/n"
   ]
  },
  {
   "cell_type": "code",
   "execution_count": 7,
   "metadata": {},
   "outputs": [],
   "source": [
    "def train(net,train_iter,test_iter,loss,num_epochs,batch_size,params=None,lr=None,optimizer=None):\n",
    "    train_loss=[]\n",
    "    test_loss=[]\n",
    "    for epoch in range(num_epochs):\n",
    "        train_l_sum,train_acc_sum,n=0.0,0.0,0\n",
    "        for X,y in train_iter:\n",
    "            X = X.to(device)\n",
    "            y = y.to(device)\n",
    "            #print(y.size())\n",
    "            y_hat = net(X)\n",
    "            y_hat = y_hat.squeeze()\n",
    "            #y_hat = y_hat.view(1,-1) \n",
    "            #print(y_hat.size())\n",
    "            l=loss(y_hat,y).sum()\n",
    "            if optimizer is not None:\n",
    "                optimizer.zero_grad()\n",
    "            elif params is not None and params[0].grad is not None:\n",
    "                for param in params:\n",
    "                    param.grad.data.zero_()\n",
    "            l.backward()\n",
    "            if optimizer is None:\n",
    "                SGD(params,lr)\n",
    "            else:\n",
    "                optimizer.step()\n",
    "            train_l_sum+=l.item()\n",
    "            '''print(y_hat.shape)\n",
    "            print(y.shape)\n",
    "            print(y_hat)\n",
    "            print(y_hat.argmax(dim=1))\n",
    "            print(y)\n",
    "            print(y_hat.argmax(dim=1)==y)\n",
    "            '''\n",
    "            train_acc_sum+=(y_hat.argmax(dim=1)==y.argmax(dim=1)).sum().item()\n",
    "            n+=y.shape[0]\n",
    "        test_acc,test_l = evaluate_accuracy(test_iter,net,loss)\n",
    "        train_loss.append(train_l_sum/n)\n",
    "        test_loss.append(test_l)\n",
    "        print('epoch%d,loss%.4f,train acc %3f,test acc %.3f'%(epoch+1,train_l_sum/n,train_acc_sum/n,test_acc))\n",
    "    return train_loss,test_loss"
   ]
  },
  {
   "cell_type": "code",
   "execution_count": 16,
   "metadata": {},
   "outputs": [],
   "source": [
    "num_epochs=40\n",
    "lr=0.03\n",
    "loss=nn.CrossEntropyLoss()\n",
    "net = AlexNet()\n",
    "net.to(device)\n",
    "optimizer=torch.optim.SGD(net.parameters(),lr)\n",
    "for params in net.parameters():\n",
    "    nn.init.normal_(params,mean=0,std=0.01)"
   ]
  },
  {
   "cell_type": "code",
   "execution_count": 17,
   "metadata": {},
   "outputs": [
    {
     "name": "stdout",
     "output_type": "stream",
     "text": [
      "epoch1,loss0.0548,train acc 0.360000,test acc 0.363\n",
      "epoch2,loss0.0548,train acc 0.360588,test acc 0.363\n",
      "epoch3,loss0.0548,train acc 0.366471,test acc 0.363\n",
      "epoch4,loss0.0548,train acc 0.366471,test acc 0.363\n",
      "epoch5,loss0.0547,train acc 0.366471,test acc 0.363\n",
      "epoch6,loss0.0545,train acc 0.366471,test acc 0.363\n",
      "epoch7,loss0.0541,train acc 0.381765,test acc 0.370\n",
      "epoch8,loss0.0529,train acc 0.457647,test acc 0.579\n",
      "epoch9,loss0.0489,train acc 0.624706,test acc 0.805\n",
      "epoch10,loss0.0419,train acc 0.765294,test acc 0.781\n",
      "epoch11,loss0.0333,train acc 0.808235,test acc 0.798\n",
      "epoch12,loss0.0237,train acc 0.853529,test acc 0.870\n",
      "epoch13,loss0.0194,train acc 0.863529,test acc 0.860\n",
      "epoch14,loss0.0154,train acc 0.891765,test acc 0.853\n",
      "epoch15,loss0.0139,train acc 0.905294,test acc 0.853\n",
      "epoch16,loss0.0132,train acc 0.902941,test acc 0.898\n",
      "epoch17,loss0.0117,train acc 0.915294,test acc 0.900\n",
      "epoch18,loss0.0101,train acc 0.926471,test acc 0.902\n",
      "epoch19,loss0.0113,train acc 0.917647,test acc 0.912\n",
      "epoch20,loss0.0088,train acc 0.935882,test acc 0.860\n",
      "epoch21,loss0.0084,train acc 0.934706,test acc 0.909\n",
      "epoch22,loss0.0080,train acc 0.940000,test acc 0.905\n",
      "epoch23,loss0.0089,train acc 0.939412,test acc 0.921\n",
      "epoch24,loss0.0062,train acc 0.962941,test acc 0.935\n",
      "epoch25,loss0.0066,train acc 0.949412,test acc 0.919\n",
      "epoch26,loss0.0069,train acc 0.952941,test acc 0.930\n",
      "epoch27,loss0.0046,train acc 0.967059,test acc 0.923\n",
      "epoch28,loss0.0061,train acc 0.955294,test acc 0.928\n",
      "epoch29,loss0.0052,train acc 0.960588,test acc 0.928\n",
      "epoch30,loss0.0059,train acc 0.958824,test acc 0.905\n",
      "epoch31,loss0.0046,train acc 0.965882,test acc 0.926\n",
      "epoch32,loss0.0041,train acc 0.974706,test acc 0.930\n",
      "epoch33,loss0.0031,train acc 0.975882,test acc 0.909\n",
      "epoch34,loss0.0032,train acc 0.981176,test acc 0.923\n",
      "epoch35,loss0.0024,train acc 0.985882,test acc 0.933\n",
      "epoch36,loss0.0035,train acc 0.977059,test acc 0.935\n",
      "epoch37,loss0.0021,train acc 0.986471,test acc 0.900\n",
      "epoch38,loss0.0027,train acc 0.980588,test acc 0.916\n",
      "epoch39,loss0.0024,train acc 0.982941,test acc 0.930\n",
      "epoch40,loss0.0016,train acc 0.990000,test acc 0.935\n"
     ]
    }
   ],
   "source": [
    "train_loss,test_loss=train(net,train_iter,test_iter,loss,num_epochs,batch_size,net.parameters(),lr,optimizer)"
   ]
  },
  {
   "cell_type": "code",
   "execution_count": 18,
   "metadata": {},
   "outputs": [
    {
     "data": {
      "image/png": "[encoded data removed]",
      "text/plain": [
       "<Figure size 640x480 with 1 Axes>"
      ]
     },
     "metadata": {},
     "output_type": "display_data"
    }
   ],
   "source": [
    "import matplotlib.pyplot as plt\n",
    "import numpy as np\n",
    "x=np.linspace(0,len(train_loss),len(train_loss))\n",
    "plt.plot(x,train_loss,label='train_loss',linewidth=1.5)\n",
    "plt.plot(x,test_loss,label='test_loss',linewidth=1.5)\n",
    "plt.xlabel(\"epoch\")\n",
    "plt.ylabel(\"loss\")\n",
    "plt.legend()\n",
    "plt.show()"
   ]
  }
 ],
 "metadata": {
  "kernelspec": {
   "display_name": "Python 3.9.13 ('base')",
   "language": "python",
   "name": "python3"
  },
  "language_info": {
   "codemirror_mode": {
    "name": "ipython",
    "version": 3
   },
   "file_extension": ".py",
   "mimetype": "text/x-python",
   "name": "python",
   "nbconvert_exporter": "python",
   "pygments_lexer": "ipython3",
   "version": "3.9.13"
  },
  "orig_nbformat": 4,
  "vscode": {
   "interpreter": {
    "hash": "c68792f7cd82460065c5d613846083f799a914df57fed46700f5555136f46f97"
   }
  }
 },
 "nbformat": 4,
 "nbformat_minor": 2
}
