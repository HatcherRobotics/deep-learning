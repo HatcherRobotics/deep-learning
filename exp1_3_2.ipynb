{
 "cells": [
  {
   "cell_type": "code",
   "execution_count": 1,
   "id": "b77d5c82",
   "metadata": {},
   "outputs": [],
   "source": [
    "import torch\n",
    "import torchvision\n",
    "import torchvision.transforms as transforms\n",
    "import torch.nn as nn\n",
    "import torch.optim as optim"
   ]
  },
  {
   "cell_type": "code",
   "execution_count": 2,
   "id": "3e765771",
   "metadata": {},
   "outputs": [],
   "source": [
    "device = torch.device(\"cuda\")"
   ]
  },
  {
   "cell_type": "code",
   "execution_count": 3,
   "id": "bd0a9826",
   "metadata": {},
   "outputs": [],
   "source": [
    "mnist_train = torchvision.datasets.FashionMNIST(root='~/test/Datasets/FashionMNIST',train=True, download=True, transform=transforms.ToTensor())\n",
    "mnist_test = torchvision.datasets.FashionMNIST(root='~/test/Datasets/FashionMNIST',train=False, download=True, transform=transforms.ToTensor())"
   ]
  },
  {
   "cell_type": "code",
   "execution_count": 4,
   "id": "9166f995",
   "metadata": {},
   "outputs": [],
   "source": [
    "batch_size = 256\n",
    "train_iter = torch.utils.data.DataLoader(mnist_train, batch_size=batch_size,shuffle=True, num_workers=2)\n",
    "test_iter = torch.utils.data.DataLoader(mnist_test, batch_size=batch_size,shuffle=False, num_workers=2)"
   ]
  },
  {
   "cell_type": "code",
   "execution_count": 5,
   "id": "3a1977a6",
   "metadata": {},
   "outputs": [],
   "source": [
    "class SoftmaxNet(nn.Module):\n",
    "    def __init__(self):\n",
    "        super(SoftmaxNet,self).__init__()\n",
    "        self.flatten = nn.Flatten()\n",
    "        self.linear = nn.Linear(784,10)\n",
    "    def forward(self,x):\n",
    "        y = self.flatten(x)\n",
    "        y = self.linear(y)\n",
    "        return y"
   ]
  },
  {
   "cell_type": "code",
   "execution_count": 6,
   "id": "5b12df48",
   "metadata": {},
   "outputs": [
    {
     "data": {
      "text/plain": [
       "SoftmaxNet(\n",
       "  (flatten): Flatten(start_dim=1, end_dim=-1)\n",
       "  (linear): Linear(in_features=784, out_features=10, bias=True)\n",
       ")"
      ]
     },
     "execution_count": 6,
     "metadata": {},
     "output_type": "execute_result"
    }
   ],
   "source": [
    "net = SoftmaxNet()\n",
    "net.to(device)"
   ]
  },
  {
   "cell_type": "code",
   "execution_count": 7,
   "id": "8b193ecd",
   "metadata": {},
   "outputs": [
    {
     "data": {
      "text/plain": [
       "SoftmaxNet(\n",
       "  (flatten): Flatten(start_dim=1, end_dim=-1)\n",
       "  (linear): Linear(in_features=784, out_features=10, bias=True)\n",
       ")"
      ]
     },
     "execution_count": 7,
     "metadata": {},
     "output_type": "execute_result"
    }
   ],
   "source": [
    "def init_weights(m):\n",
    "    if type(m) == nn.Linear:\n",
    "        nn.init.normal_(m.weight, std=0.01)\n",
    "net.apply(init_weights)"
   ]
  },
  {
   "cell_type": "code",
   "execution_count": 8,
   "id": "a09953cc",
   "metadata": {},
   "outputs": [],
   "source": [
    "loss = nn.CrossEntropyLoss()"
   ]
  },
  {
   "cell_type": "code",
   "execution_count": 9,
   "id": "9090b2e4",
   "metadata": {},
   "outputs": [],
   "source": [
    "optimizer = optim.SGD(net.parameters(),lr=0.03)"
   ]
  },
  {
   "cell_type": "code",
   "execution_count": 10,
   "id": "6d3c30d3",
   "metadata": {},
   "outputs": [
    {
     "name": "stdout",
     "output_type": "stream",
     "text": [
      "epoch 1, loss: 0.735674\n",
      "epoch 2, loss: 0.741675\n",
      "epoch 3, loss: 0.702587\n",
      "epoch 4, loss: 0.663624\n",
      "epoch 5, loss: 0.716488\n",
      "epoch 6, loss: 0.519208\n",
      "epoch 7, loss: 0.365440\n",
      "epoch 8, loss: 0.611615\n",
      "epoch 9, loss: 0.420317\n",
      "epoch 10, loss: 0.545833\n",
      "epoch 11, loss: 0.508353\n",
      "epoch 12, loss: 0.521455\n",
      "epoch 13, loss: 0.512901\n",
      "epoch 14, loss: 0.599286\n",
      "epoch 15, loss: 0.481422\n",
      "epoch 16, loss: 0.450080\n",
      "epoch 17, loss: 0.545920\n",
      "epoch 18, loss: 0.597974\n",
      "epoch 19, loss: 0.484878\n",
      "epoch 20, loss: 0.520654\n",
      "epoch 21, loss: 0.511643\n",
      "epoch 22, loss: 0.376109\n",
      "epoch 23, loss: 0.423481\n",
      "epoch 24, loss: 0.390210\n",
      "epoch 25, loss: 0.377652\n",
      "epoch 26, loss: 0.285284\n",
      "epoch 27, loss: 0.343254\n",
      "epoch 28, loss: 0.437730\n",
      "epoch 29, loss: 0.444005\n",
      "epoch 30, loss: 0.403632\n",
      "epoch 31, loss: 0.299590\n",
      "epoch 32, loss: 0.407022\n",
      "epoch 33, loss: 0.464733\n",
      "epoch 34, loss: 0.374470\n",
      "epoch 35, loss: 0.420835\n",
      "epoch 36, loss: 0.349602\n",
      "epoch 37, loss: 0.564385\n",
      "epoch 38, loss: 0.334537\n",
      "epoch 39, loss: 0.428273\n",
      "epoch 40, loss: 0.483501\n",
      "epoch 41, loss: 0.375320\n",
      "epoch 42, loss: 0.449885\n",
      "epoch 43, loss: 0.437058\n",
      "epoch 44, loss: 0.533340\n",
      "epoch 45, loss: 0.463740\n",
      "epoch 46, loss: 0.431770\n",
      "epoch 47, loss: 0.577306\n",
      "epoch 48, loss: 0.417092\n",
      "epoch 49, loss: 0.290912\n",
      "epoch 50, loss: 0.482847\n",
      "epoch 51, loss: 0.381166\n",
      "epoch 52, loss: 0.449465\n",
      "epoch 53, loss: 0.554572\n",
      "epoch 54, loss: 0.350057\n",
      "epoch 55, loss: 0.386467\n",
      "epoch 56, loss: 0.287153\n",
      "epoch 57, loss: 0.382059\n",
      "epoch 58, loss: 0.481555\n",
      "epoch 59, loss: 0.509933\n",
      "epoch 60, loss: 0.372912\n",
      "epoch 61, loss: 0.383419\n",
      "epoch 62, loss: 0.389630\n",
      "epoch 63, loss: 0.385843\n",
      "epoch 64, loss: 0.339992\n",
      "epoch 65, loss: 0.409294\n",
      "epoch 66, loss: 0.292222\n",
      "epoch 67, loss: 0.505986\n",
      "epoch 68, loss: 0.413948\n",
      "epoch 69, loss: 0.318578\n",
      "epoch 70, loss: 0.460999\n",
      "epoch 71, loss: 0.447741\n",
      "epoch 72, loss: 0.385998\n",
      "epoch 73, loss: 0.454817\n",
      "epoch 74, loss: 0.414993\n",
      "epoch 75, loss: 0.231021\n",
      "epoch 76, loss: 0.402531\n",
      "epoch 77, loss: 0.457700\n",
      "epoch 78, loss: 0.357349\n",
      "epoch 79, loss: 0.490689\n",
      "epoch 80, loss: 0.406403\n"
     ]
    }
   ],
   "source": [
    "loss_list = []\n",
    "epoch_list = []\n",
    "num_epochs = 40\n",
    "for epoch in range(1,num_epochs+1):\n",
    "    for X,y in train_iter:\n",
    "        X = X.to(device)\n",
    "        y = y.to(device)\n",
    "        l=loss(net(X),y)\n",
    "        optimizer.zero_grad()\n",
    "        l.backward()\n",
    "        optimizer.step()\n",
    "    epoch_list.append(epoch)\n",
    "    loss_list.append(l.item())\n",
    "    print('epoch %d, loss: %f' % (epoch, l.item()))      "
   ]
  },
  {
   "cell_type": "code",
   "execution_count": 11,
   "id": "de53670c",
   "metadata": {},
   "outputs": [
    {
     "data": {
      "image/png": "[encoded data removed]",
      "text/plain": [
       "<Figure size 432x288 with 1 Axes>"
      ]
     },
     "metadata": {
      "needs_background": "light"
     },
     "output_type": "display_data"
    }
   ],
   "source": [
    "import matplotlib.pyplot as plt\n",
    "plt.plot(epoch_list,loss_list)\n",
    "plt.title(\"LOSS WITH EPOCH\")\n",
    "plt.xlabel(\"epochs\")\n",
    "plt.ylabel(\"loss\")\n",
    "plt.show()"
   ]
  },
  {
   "cell_type": "code",
   "execution_count": 12,
   "id": "1c3b3474",
   "metadata": {},
   "outputs": [],
   "source": [
    "def evaluate_accuracy(data_iter, net):\n",
    "    acc_sum, n = 0.0, 0\n",
    "    for X, y in data_iter:\n",
    "        X = X.to(device)\n",
    "        y = y.to(device)\n",
    "        acc_sum += (net(X).argmax(dim=1) == y).float().sum().item()\n",
    "        n += y.shape[0]\n",
    "    return acc_sum / n"
   ]
  },
  {
   "cell_type": "code",
   "execution_count": 13,
   "id": "5202c447",
   "metadata": {},
   "outputs": [
    {
     "data": {
      "text/plain": [
       "0.86085"
      ]
     },
     "execution_count": 13,
     "metadata": {},
     "output_type": "execute_result"
    }
   ],
   "source": [
    "#训练集精度\n",
    "evaluate_accuracy(train_iter,net)"
   ]
  },
  {
   "cell_type": "code",
   "execution_count": 14,
   "id": "67631070",
   "metadata": {},
   "outputs": [
    {
     "data": {
      "text/plain": [
       "0.8413"
      ]
     },
     "execution_count": 14,
     "metadata": {},
     "output_type": "execute_result"
    }
   ],
   "source": [
    "#测试集精度\n",
    "evaluate_accuracy(test_iter,net)"
   ]
  },
  {
   "cell_type": "code",
   "execution_count": null,
   "id": "9cde2f29",
   "metadata": {},
   "outputs": [],
   "source": []
  }
 ],
 "metadata": {
  "kernelspec": {
   "display_name": "Python 3",
   "language": "python",
   "name": "python3"
  },
  "language_info": {
   "codemirror_mode": {
    "name": "ipython",
    "version": 3
   },
   "file_extension": ".py",
   "mimetype": "text/x-python",
   "name": "python",
   "nbconvert_exporter": "python",
   "pygments_lexer": "ipython3",
   "version": "3.8.8"
  }
 },
 "nbformat": 4,
 "nbformat_minor": 5
}