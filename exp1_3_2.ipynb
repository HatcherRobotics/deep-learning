{
 "cells": [
  {
   "cell_type": "code",
   "execution_count": 1,
   "id": "b77d5c82",
   "metadata": {},
   "outputs": [],
   "source": [
    "import torch\n",
    "import torchvision\n",
    "import torchvision.transforms as transforms\n",
    "import torch.nn as nn\n",
    "import torch.optim as optim"
   ]
  },
  {
   "cell_type": "code",
   "execution_count": 2,
   "id": "3e765771",
   "metadata": {},
   "outputs": [],
   "source": [
    "device = torch.device(\"cuda\")"
   ]
  },
  {
   "cell_type": "code",
   "execution_count": 3,
   "id": "bd0a9826",
   "metadata": {},
   "outputs": [
    {
     "name": "stdout",
     "output_type": "stream",
     "text": [
      "Downloading http://fashion-mnist.s3-website.eu-central-1.amazonaws.com/train-images-idx3-ubyte.gz\n",
      "Downloading http://fashion-mnist.s3-website.eu-central-1.amazonaws.com/train-images-idx3-ubyte.gz to /home/hatcher/test/Datasets/FashionMNIST/FashionMNIST/raw/train-images-idx3-ubyte.gz\n"
     ]
    },
    {
     "data": {
      "application/vnd.jupyter.widget-view+json": {
       "model_id": "3b16d8268d5841aeb8354bf05d10e0b3",
       "version_major": 2,
       "version_minor": 0
      },
      "text/plain": [
       "  0%|          | 0/26421880 [00:00<?, ?it/s]"
      ]
     },
     "metadata": {},
     "output_type": "display_data"
    },
    {
     "name": "stdout",
     "output_type": "stream",
     "text": [
      "Extracting /home/hatcher/test/Datasets/FashionMNIST/FashionMNIST/raw/train-images-idx3-ubyte.gz to /home/hatcher/test/Datasets/FashionMNIST/FashionMNIST/raw\n",
      "\n",
      "Downloading http://fashion-mnist.s3-website.eu-central-1.amazonaws.com/train-labels-idx1-ubyte.gz\n",
      "Downloading http://fashion-mnist.s3-website.eu-central-1.amazonaws.com/train-labels-idx1-ubyte.gz to /home/hatcher/test/Datasets/FashionMNIST/FashionMNIST/raw/train-labels-idx1-ubyte.gz\n"
     ]
    },
    {
     "data": {
      "application/vnd.jupyter.widget-view+json": {
       "model_id": "c6a72815c297452c83f2ddd461abfebe",
       "version_major": 2,
       "version_minor": 0
      },
      "text/plain": [
       "  0%|          | 0/29515 [00:00<?, ?it/s]"
      ]
     },
     "metadata": {},
     "output_type": "display_data"
    },
    {
     "name": "stdout",
     "output_type": "stream",
     "text": [
      "Extracting /home/hatcher/test/Datasets/FashionMNIST/FashionMNIST/raw/train-labels-idx1-ubyte.gz to /home/hatcher/test/Datasets/FashionMNIST/FashionMNIST/raw\n",
      "\n",
      "Downloading http://fashion-mnist.s3-website.eu-central-1.amazonaws.com/t10k-images-idx3-ubyte.gz\n",
      "Downloading http://fashion-mnist.s3-website.eu-central-1.amazonaws.com/t10k-images-idx3-ubyte.gz to /home/hatcher/test/Datasets/FashionMNIST/FashionMNIST/raw/t10k-images-idx3-ubyte.gz\n"
     ]
    },
    {
     "data": {
      "application/vnd.jupyter.widget-view+json": {
       "model_id": "05a2526a48e04e0bad8d0bb6cc23d31f",
       "version_major": 2,
       "version_minor": 0
      },
      "text/plain": [
       "  0%|          | 0/4422102 [00:00<?, ?it/s]"
      ]
     },
     "metadata": {},
     "output_type": "display_data"
    },
    {
     "name": "stdout",
     "output_type": "stream",
     "text": [
      "Extracting /home/hatcher/test/Datasets/FashionMNIST/FashionMNIST/raw/t10k-images-idx3-ubyte.gz to /home/hatcher/test/Datasets/FashionMNIST/FashionMNIST/raw\n",
      "\n",
      "Downloading http://fashion-mnist.s3-website.eu-central-1.amazonaws.com/t10k-labels-idx1-ubyte.gz\n",
      "Downloading http://fashion-mnist.s3-website.eu-central-1.amazonaws.com/t10k-labels-idx1-ubyte.gz to /home/hatcher/test/Datasets/FashionMNIST/FashionMNIST/raw/t10k-labels-idx1-ubyte.gz\n"
     ]
    },
    {
     "data": {
      "application/vnd.jupyter.widget-view+json": {
       "model_id": "8ca26bd67e4b4dda9f89aac565fa872e",
       "version_major": 2,
       "version_minor": 0
      },
      "text/plain": [
       "  0%|          | 0/5148 [00:00<?, ?it/s]"
      ]
     },
     "metadata": {},
     "output_type": "display_data"
    },
    {
     "name": "stdout",
     "output_type": "stream",
     "text": [
      "Extracting /home/hatcher/test/Datasets/FashionMNIST/FashionMNIST/raw/t10k-labels-idx1-ubyte.gz to /home/hatcher/test/Datasets/FashionMNIST/FashionMNIST/raw\n",
      "\n",
      "Processing...\n",
      "Done!\n"
     ]
    },
    {
     "name": "stderr",
     "output_type": "stream",
     "text": [
      "/home/hatcher/anaconda3/lib/python3.9/site-packages/torchvision/datasets/mnist.py:502: UserWarning: The given NumPy array is not writeable, and PyTorch does not support non-writeable tensors. This means you can write to the underlying (supposedly non-writeable) NumPy array using the tensor. You may want to copy the array to protect its data or make it writeable before converting it to a tensor. This type of warning will be suppressed for the rest of this program. (Triggered internally at  ../torch/csrc/utils/tensor_numpy.cpp:143.)\n",
      "  return torch.from_numpy(parsed.astype(m[2], copy=False)).view(*s)\n"
     ]
    }
   ],
   "source": [
    "mnist_train = torchvision.datasets.FashionMNIST(root='~/test/Datasets/FashionMNIST',train=True, download=True, transform=transforms.ToTensor())\n",
    "mnist_test = torchvision.datasets.FashionMNIST(root='~/test/Datasets/FashionMNIST',train=False, download=True, transform=transforms.ToTensor())"
   ]
  },
  {
   "cell_type": "code",
   "execution_count": 4,
   "id": "9166f995",
   "metadata": {},
   "outputs": [],
   "source": [
    "batch_size = 256\n",
    "train_iter = torch.utils.data.DataLoader(mnist_train, batch_size=batch_size,shuffle=True, num_workers=2)\n",
    "test_iter = torch.utils.data.DataLoader(mnist_test, batch_size=batch_size,shuffle=False, num_workers=2)"
   ]
  },
  {
   "cell_type": "code",
   "execution_count": 5,
   "id": "3a1977a6",
   "metadata": {},
   "outputs": [],
   "source": [
    "class SoftmaxNet(nn.Module):\n",
    "    def __init__(self):\n",
    "        super(SoftmaxNet,self).__init__()\n",
    "        self.flatten = nn.Flatten()\n",
    "        self.linear = nn.Linear(784,10)\n",
    "    def forward(self,x):\n",
    "        y = self.flatten(x)\n",
    "        y = self.linear(y)\n",
    "        return y"
   ]
  },
  {
   "cell_type": "code",
   "execution_count": 6,
   "id": "5b12df48",
   "metadata": {},
   "outputs": [
    {
     "data": {
      "text/plain": [
       "SoftmaxNet(\n",
       "  (flatten): Flatten(start_dim=1, end_dim=-1)\n",
       "  (linear): Linear(in_features=784, out_features=10, bias=True)\n",
       ")"
      ]
     },
     "execution_count": 6,
     "metadata": {},
     "output_type": "execute_result"
    }
   ],
   "source": [
    "net = SoftmaxNet()\n",
    "net.to(device)"
   ]
  },
  {
   "cell_type": "code",
   "execution_count": 7,
   "id": "8b193ecd",
   "metadata": {},
   "outputs": [
    {
     "data": {
      "text/plain": [
       "SoftmaxNet(\n",
       "  (flatten): Flatten(start_dim=1, end_dim=-1)\n",
       "  (linear): Linear(in_features=784, out_features=10, bias=True)\n",
       ")"
      ]
     },
     "execution_count": 7,
     "metadata": {},
     "output_type": "execute_result"
    }
   ],
   "source": [
    "def init_weights(m):\n",
    "    if type(m) == nn.Linear:\n",
    "        nn.init.normal_(m.weight, std=0.01)\n",
    "net.apply(init_weights)"
   ]
  },
  {
   "cell_type": "code",
   "execution_count": 8,
   "id": "a09953cc",
   "metadata": {},
   "outputs": [],
   "source": [
    "loss = nn.CrossEntropyLoss()"
   ]
  },
  {
   "cell_type": "code",
   "execution_count": 9,
   "id": "9090b2e4",
   "metadata": {},
   "outputs": [],
   "source": [
    "optimizer = optim.SGD(net.parameters(),lr=0.03)"
   ]
  },
  {
   "cell_type": "code",
   "execution_count": 10,
   "id": "6d3c30d3",
   "metadata": {},
   "outputs": [
    {
     "name": "stdout",
     "output_type": "stream",
     "text": [
      "epoch 1, loss: 0.867235\n",
      "epoch 2, loss: 0.560748\n",
      "epoch 3, loss: 0.566779\n",
      "epoch 4, loss: 0.516512\n",
      "epoch 5, loss: 0.543296\n",
      "epoch 6, loss: 0.593223\n",
      "epoch 7, loss: 0.397618\n",
      "epoch 8, loss: 0.570597\n",
      "epoch 9, loss: 0.579598\n",
      "epoch 10, loss: 0.479862\n",
      "epoch 11, loss: 0.584007\n",
      "epoch 12, loss: 0.423430\n",
      "epoch 13, loss: 0.480897\n",
      "epoch 14, loss: 0.457495\n",
      "epoch 15, loss: 0.520656\n",
      "epoch 16, loss: 0.661036\n",
      "epoch 17, loss: 0.512971\n",
      "epoch 18, loss: 0.503785\n",
      "epoch 19, loss: 0.483479\n",
      "epoch 20, loss: 0.353771\n",
      "epoch 21, loss: 0.499994\n",
      "epoch 22, loss: 0.625395\n",
      "epoch 23, loss: 0.559819\n",
      "epoch 24, loss: 0.300076\n",
      "epoch 25, loss: 0.449118\n",
      "epoch 26, loss: 0.319708\n",
      "epoch 27, loss: 0.536897\n",
      "epoch 28, loss: 0.374219\n",
      "epoch 29, loss: 0.514993\n",
      "epoch 30, loss: 0.425964\n",
      "epoch 31, loss: 0.392318\n",
      "epoch 32, loss: 0.507820\n",
      "epoch 33, loss: 0.482491\n",
      "epoch 34, loss: 0.466943\n",
      "epoch 35, loss: 0.414772\n",
      "epoch 36, loss: 0.463498\n",
      "epoch 37, loss: 0.386525\n",
      "epoch 38, loss: 0.320455\n",
      "epoch 39, loss: 0.493260\n",
      "epoch 40, loss: 0.351812\n"
     ]
    }
   ],
   "source": [
    "loss_list = []\n",
    "epoch_list = []\n",
    "num_epochs = 40\n",
    "for epoch in range(1,num_epochs+1):\n",
    "    for X,y in train_iter:\n",
    "        X = X.to(device)\n",
    "        y = y.to(device)\n",
    "        l=loss(net(X),y)\n",
    "        optimizer.zero_grad()\n",
    "        l.backward()\n",
    "        optimizer.step()\n",
    "    epoch_list.append(epoch)\n",
    "    loss_list.append(l.item())\n",
    "    print('epoch %d, loss: %f' % (epoch, l.item()))      "
   ]
  },
  {
   "cell_type": "code",
   "execution_count": 11,
   "id": "de53670c",
   "metadata": {},
   "outputs": [
    {
     "data": {
      "image/png": "[encoded data removed]",
      "text/plain": [
       "<Figure size 640x480 with 1 Axes>"
      ]
     },
     "metadata": {},
     "output_type": "display_data"
    }
   ],
   "source": [
    "import matplotlib.pyplot as plt\n",
    "plt.plot(epoch_list,loss_list)\n",
    "plt.title(\"LOSS WITH EPOCH\")\n",
    "plt.xlabel(\"epochs\")\n",
    "plt.ylabel(\"loss\")\n",
    "plt.show()"
   ]
  },
  {
   "cell_type": "code",
   "execution_count": 12,
   "id": "1c3b3474",
   "metadata": {},
   "outputs": [],
   "source": [
    "def evaluate_accuracy(data_iter, net):\n",
    "    acc_sum, n = 0.0, 0\n",
    "    for X, y in data_iter:\n",
    "        X = X.to(device)\n",
    "        y = y.to(device)\n",
    "        acc_sum += (net(X).argmax(dim=1) == y).float().sum().item()\n",
    "        n += y.shape[0]\n",
    "    return acc_sum / n"
   ]
  },
  {
   "cell_type": "code",
   "execution_count": 13,
   "id": "5202c447",
   "metadata": {},
   "outputs": [
    {
     "data": {
      "text/plain": [
       "0.86085"
      ]
     },
     "execution_count": 13,
     "metadata": {},
     "output_type": "execute_result"
    }
   ],
   "source": [
    "#训练集精度\n",
    "evaluate_accuracy(train_iter,net)"
   ]
  },
  {
   "cell_type": "code",
   "execution_count": 14,
   "id": "67631070",
   "metadata": {},
   "outputs": [
    {
     "data": {
      "text/plain": [
       "0.8413"
      ]
     },
     "execution_count": 14,
     "metadata": {},
     "output_type": "execute_result"
    }
   ],
   "source": [
    "#测试集精度\n",
    "evaluate_accuracy(test_iter,net)"
   ]
  },
  {
   "cell_type": "code",
   "execution_count": null,
   "id": "9cde2f29",
   "metadata": {},
   "outputs": [],
   "source": []
  }
 ],
 "metadata": {
  "kernelspec": {
   "display_name": "Python 3 (ipykernel)",
   "language": "python",
   "name": "python3"
  },
  "language_info": {
   "codemirror_mode": {
    "name": "ipython",
    "version": 3
   },
   "file_extension": ".py",
   "mimetype": "text/x-python",
   "name": "python",
   "nbconvert_exporter": "python",
   "pygments_lexer": "ipython3",
   "version": "3.9.13"
  }
 },
 "nbformat": 4,
 "nbformat_minor": 5
}
