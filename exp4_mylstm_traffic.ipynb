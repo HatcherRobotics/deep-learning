{
 "cells": [
  {
   "cell_type": "code",
   "execution_count": null,
   "metadata": {},
   "outputs": [],
   "source": [
    "import os\n",
    "import numpy as np\n",
    "import pandas as pd\n",
    "import torch\n",
    "from torch import nn\n",
    "import torch.utils.data as data"
   ]
  },
  {
   "cell_type": "code",
   "execution_count": null,
   "metadata": {},
   "outputs": [],
   "source": [
    "# 定义dataset\n",
    "class my_Dataset(data.Dataset):#继承？\n",
    "    def __init__(self, features, labels):\n",
    "        self.X = features\n",
    "        self.y = labels\n",
    "\n",
    "    def __getitem__(self, index):\n",
    "        return self.X[index], self.y[index]\n",
    "\n",
    "    def __len__(self):\n",
    "        return self.X.shape[0]"
   ]
  },
  {
   "cell_type": "code",
   "execution_count": null,
   "metadata": {},
   "outputs": [],
   "source": [
    "class TrafficDataset:\n",
    "    def __init__(self, sensor_num=10, target=0):\n",
    "        # 选取适当的检测器用作序列数据\n",
    "        self.raw_data = np.load('./traffic-flow/traffic.npz')['data']\n",
    "        self.sensor_num = sensor_num\n",
    "        self.target = target\n",
    "        # 数据标准化\n",
    "        self.min = self.raw_data.min()\n",
    "        self.max = self.raw_data.max()\n",
    "        self.data = (self.raw_data - self.min) / (self.max - self.min)\n",
    "\n",
    "    def denormalize(self, x):\n",
    "        return x * (self.max - self.min) + self.min\n",
    "\n",
    "    def construct_set(self, train_por=0.6,val_por=0.2,test_por=0.2, window_size=12,label=0):\n",
    "        train_x = []\n",
    "        train_y = []\n",
    "        val_x = []\n",
    "        val_y = []\n",
    "        test_x = []\n",
    "        test_y = []\n",
    "        len_train = int(self.data.shape[0] * train_por)\n",
    "        len_val = int(self.data.shape[0] * val_por)\n",
    "        len_test = int(self.data.shape[0] * test_por)\n",
    "        train_seqs = self.data[:len_train]\n",
    "        val_seqs = self.data[len_train:len_val+len_train]\n",
    "        test_seqs = self.data[len_train+len_val:len_val+len_train+len_test]\n",
    "\n",
    "        for i in range(train_seqs.shape[0] - window_size):\n",
    "            train_x.append(train_seqs[i:i+window_size, self.sensor_num, :].squeeze())\n",
    "            train_y.append(train_seqs[i+window_size, self.sensor_num, self.target].squeeze())\n",
    "\n",
    "        for i in range(val_seqs.shape[0] - window_size):\n",
    "            val_x.append(val_seqs[i:i+window_size, self.sensor_num, :].squeeze())\n",
    "            val_y.append(val_seqs[i+window_size, self.sensor_num, self.target].squeeze())\n",
    "\n",
    "        for i in range(test_seqs.shape[0] - window_size):\n",
    "            test_x.append(test_seqs[i:i+window_size, self.sensor_num, :].squeeze())\n",
    "            test_y.append(test_seqs[i+window_size, self.sensor_num, self.target].squeeze())\n",
    "        \n",
    "        train_set = my_Dataset(torch.Tensor(train_x), torch.Tensor(train_y))\n",
    "        val_set = my_Dataset(torch.Tensor(val_x), torch.Tensor(val_y))\n",
    "        test_set = my_Dataset(torch.Tensor(test_x), torch.Tensor(test_y))\n",
    "        return train_set, val_set, test_set"
   ]
  },
  {
   "cell_type": "code",
   "execution_count": null,
   "metadata": {},
   "outputs": [],
   "source": [
    "TrafficData = TrafficDataset()\n",
    "train_set, val_set, test_set = TrafficData.construct_set()\n",
    "batch_size = 64\n",
    "train_loader = data.DataLoader(train_set, batch_size=batch_size, shuffle=True, num_workers=4, drop_last=True)\n",
    "val_loader = data.DataLoader(val_set, batch_size=batch_size, shuffle=False, num_workers=4, drop_last=True)\n",
    "test_loader = data.DataLoader(test_set, batch_size=batch_size, shuffle=False, num_workers=4, drop_last=True)"
   ]
  },
  {
   "cell_type": "code",
   "execution_count": null,
   "metadata": {},
   "outputs": [],
   "source": [
    "class My_legacyLSTM(nn.Module):\n",
    "    def _init__(self, input_size, hidden_size):\n",
    "        super().__init__()\n",
    "        self.hidden_size = hidden_size\n",
    "        self.w_f = nn.Parameter(torch.rand(input_size, hidden_size))\n",
    "        self.u_f = nn.Parameter(torch.rand(hidden_size, hidden_size))\n",
    "        self.b_f = nn.Parameter(torch.zeros(hidden_size))\n",
    "\n",
    "        self.w_i = nn.Parameter(torch.rand(input_size, hidden_size))\n",
    "        self.u_i = nn.Parameter(torch.rand(hidden_size, hidden_size))\n",
    "        self.b_i = nn.Parameter(torch.zeros(hidden_size))\n",
    "\n",
    "        self.w_o = nn.Parameter(torch.rand(input_size, hidden_size))\n",
    "        self.u_o = nn.Parameter(torch.rand(hidden_size, hidden_size))\n",
    "        self.b_o = nn.Parameter(torch.zeros(hidden_size))\n",
    "\n",
    "        self.w_c = nn.Parameter(torch.rand(input_size, hidden_size))\n",
    "        self.u_c = nn.Parameter(torch.rand(hidden_size, hidden_size))\n",
    "        self.b_c = nn.Parameter(torch.zeros(hidden_size))\n",
    "\n",
    "        self.sigmoid = nn.Sigmoid()\n",
    "        self.tanh = nn.Tanh()\n",
    "        for param in self.parameters():\n",
    "            if param.dim() > 1:\n",
    "                nn.init.xavier_uniform_(param)\n",
    "\n",
    "    def forward(self, x):\n",
    "        batch_size = x.size(0)\n",
    "        seq_len = x.size(1)\n",
    "\n",
    "        # 需要初始化隐藏状态和细胞状态\n",
    "        h = torch.zeros(batch_size, self.hidden_size).to(x.device)\n",
    "        c = torch.zeros(batch_size, self.hidden_size).to(x.device)\n",
    "        y_list = []\n",
    "        for i in range(seq_len):\n",
    "            forget_gate = self.sigmoid(torch.matmul(x[:, i, :], self.w_f) +\n",
    "                                       torch.matmul(h, self.u_f) + self.b_f)\n",
    "            # (batch_siz,hidden_size)\n",
    "            input_gate = self.sigmoid(torch.matmul(x[:, i, :], self.w_i) +\n",
    "                                      torch.matmul(h, self.u_i) + self.b_i)\n",
    "            output_gate = self.sigmoid(torch.matmul(x[:, i, :], self.w_o) +\n",
    "                                       torch.matmul(h, self.u_o) + self.b_o)\n",
    "            # 这里可以看到各个门的运作方式。\n",
    "            # 三个门均通过hadamard积作用在每一个维度上。\n",
    "            c = forget_gate * c + input_gate * self.tanh(torch.matmul(x[:, i, :], self.w_c) +\n",
    "                                                         torch.matmul(h, self.u_c) + self.b_c)\n",
    "            h = output_gate * self.tanh(c)\n",
    "            y_list.append(h)\n",
    "        return torch.stack(y_list, dim=1), (h, c)"
   ]
  },
  {
   "cell_type": "code",
   "execution_count": null,
   "metadata": {},
   "outputs": [],
   "source": [
    "class My_LSTM(nn. Module):\n",
    "    def __init__(self, input_size, hidden_size, output_size):\n",
    "        super().__init__()\n",
    "        self.hidden_size = hidden_size\n",
    "        self.gates = nn.Linear(input_size + hidden_size, hidden_size * 4)\n",
    "        self.sigmoid = nn.Sigmoid()\n",
    "        self.tanh = nn. Tanh()\n",
    "        self.output = nn.Sequential(\n",
    "            nn.Linear(hidden_size, hidden_size // 2),\n",
    "            nn.ReLU(),\n",
    "            nn.Linear(hidden_size // 2, output_size)\n",
    "        )\n",
    "        for param in self.parameters():\n",
    "            if param.dim() > 1:\n",
    "                nn.init.xavier_uniform_(param)\n",
    "\n",
    "    def forward(self, x):\n",
    "        batch_size = x.size(0)\n",
    "        seq_len = x.size(1)\n",
    "        h, c = (torch.zeros(batch_size, self.hidden_size).to(x.device) for _ in range(2))\n",
    "        y_list = []\n",
    "        for i in range(seq_len):\n",
    "            forget_gate, input_gate, output_gate, candidate_cell = \\\n",
    "                self.gates(torch.cat([x[:, i, :], h], dim=-1)).chunk(4, -1)\n",
    "            forget_gate, input_gate, output_gate = (self.sigmoid(g)\n",
    "                                                    for g in (forget_gate, input_gate, output_gate))\n",
    "            c = forget_gate * c + input_gate * self.tanh(candidate_cell)\n",
    "            h = output_gate * self.tanh(c)\n",
    "            y_list.append(self.output(h))\n",
    "        return torch.stack(y_list, dim=1), (h, c)"
   ]
  },
  {
   "cell_type": "code",
   "execution_count": null,
   "metadata": {},
   "outputs": [],
   "source": [
    "device = torch.device(\"cuda\" if torch.cuda.is_available() else \"cpu\")\n",
    "input_size = train_set.X.shape[-1]\n",
    "hidden_size = 64\n",
    "output_size = 1\n",
    "print(input_size, hidden_size, output_size)\n",
    "seq_len = 12\n",
    "lr = 0.0001\n",
    "epochs = 80\n",
    "loss_func = nn.MSELoss()\n",
    "my_legacylstm=My_legacyLSTM(input_size, hidden_size).to(device)\n",
    "my_lstm = My_LSTM(input_size, hidden_size, output_size).to(device)\n",
    "optimizer1 = torch.optim.Adam(my_legacylstm.parameters(), lr)\n",
    "optimizer2 = torch.optim.Adam(my_lstm.parameters(), lr)"
   ]
  },
  {
   "cell_type": "code",
   "execution_count": null,
   "metadata": {},
   "outputs": [],
   "source": [
    "from utils import *\n",
    "\n",
    "train_loss_lst1, val_loss_lst1, \\\n",
    "    train_score_lst1, val_score_lst1, stop_epoch1 = train(my_legacylstm, train_loader, val_loader, test_loader,\n",
    "                                                        loss_func, TrafficData.denormalize, optimizer1, epochs,\n",
    "                                                        early_stop=20, device=device, output_model=None)"
   ]
  },
  {
   "cell_type": "code",
   "execution_count": null,
   "metadata": {},
   "outputs": [],
   "source": [
    "visualize(stop_epoch1, train_loss_lst1, val_loss_lst1, y_label='Loss')\n",
    "plot_metric(train_score_lst1)"
   ]
  },
  {
   "cell_type": "code",
   "execution_count": null,
   "metadata": {},
   "outputs": [],
   "source": [
    "train_loss_lst2, val_loss_lst2, \\\n",
    "    train_score_lst2, val_score_lst2, stop_epoch2 = train(my_lstm, train_loader, val_loader, test_loader,\n",
    "                                                        loss_func, TrafficData.denormalize, optimizer2, epochs,\n",
    "                                                        early_stop=20, device=device, output_model=None)"
   ]
  },
  {
   "cell_type": "code",
   "execution_count": null,
   "metadata": {},
   "outputs": [],
   "source": [
    "visualize(stop_epoch2, train_loss_lst2, val_loss_lst2, y_label='Loss')\n",
    "plot_metric(train_score_lst2)"
   ]
  }
 ],
 "metadata": {
  "kernelspec": {
   "display_name": "Python 3.8.8 ('base')",
   "language": "python",
   "name": "python3"
  },
  "language_info": {
   "name": "python",
   "version": "3.8.8"
  },
  "orig_nbformat": 4,
  "vscode": {
   "interpreter": {
    "hash": "c68792f7cd82460065c5d613846083f799a914df57fed46700f5555136f46f97"
   }
  }
 },
 "nbformat": 4,
 "nbformat_minor": 2
}
